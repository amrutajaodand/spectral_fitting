{
 "cells": [
  {
   "cell_type": "markdown",
   "metadata": {},
   "source": [
    "# Query Pan-STARRS DR2 catalog using MAST API\n",
    "\n",
    "The [new MAST interface](https://catalogs.mast.stsci.edu/) to the Pan-STARRS catalog supports queries to both the DR1 and DR2 PS1 catalogs.  It also has an associated [API](https://catalogs.mast.stsci.edu/docs/panstarrs.html), which is used in this script.\n",
    "\n",
    "This script shows how to query the Pan-STARRS DR2 catalog using the PS1 search API.  The examples show how to do a simple cone search, how to manipulate the table of results, and how to get a light curve from the table of detections.\n",
    "\n",
    "This notebook is available for [download](https://ps1images.stsci.edu/ps1_dr2_api.ipynb)."
   ]
  },
  {
   "cell_type": "code",
   "execution_count": 5,
   "metadata": {},
   "outputs": [],
   "source": [
    "from astropy.io import ascii\n",
    "from astropy.table import Table\n",
    "from astropy.coordinates import SkyCoord\n",
    "\n",
    "import sys\n",
    "import re\n",
    "import numpy as np\n",
    "import matplotlib.pyplot as plt\n",
    "import json\n",
    "import requests\n",
    "\n",
    "try: # Python 3.x\n",
    "    from urllib.parse import quote as urlencode\n",
    "    from urllib.request import urlretrieve\n",
    "except ImportError:  # Python 2.x\n",
    "    from urllib import pathname2url as urlencode\n",
    "    from urllib import urlretrieve\n",
    "\n",
    "try: # Python 3.x\n",
    "    import http.client as httplib \n",
    "except ImportError:  # Python 2.x\n",
    "    import httplib   "
   ]
  },
  {
   "cell_type": "markdown",
   "metadata": {},
   "source": [
    "## Useful functions\n",
    "\n",
    "Execute PS1 searches and resolve names using [MAST query](https://mast.stsci.edu/api/v0/MastApiTutorial.html)."
   ]
  },
  {
   "cell_type": "code",
   "execution_count": 2,
   "metadata": {},
   "outputs": [],
   "source": [
    "def ps1cone(ra,dec,radius,table=\"mean\",release=\"dr1\",format=\"csv\",columns=None,\n",
    "           baseurl=\"https://catalogs.mast.stsci.edu/api/v0.1/panstarrs\", verbose=False,\n",
    "           **kw):\n",
    "    \"\"\"Do a cone search of the PS1 catalog\n",
    "    \n",
    "    Parameters\n",
    "    ----------\n",
    "    ra (float): (degrees) J2000 Right Ascension\n",
    "    dec (float): (degrees) J2000 Declination\n",
    "    radius (float): (degrees) Search radius (<= 0.5 degrees)\n",
    "    table (string): mean, stack, or detection\n",
    "    release (string): dr1 or dr2\n",
    "    format: csv, votable, json\n",
    "    columns: list of column names to include (None means use defaults)\n",
    "    baseurl: base URL for the request\n",
    "    verbose: print info about request\n",
    "    **kw: other parameters (e.g., 'nDetections.min':2)\n",
    "    \"\"\"\n",
    "    \n",
    "    data = kw.copy()\n",
    "    data['ra'] = ra\n",
    "    data['dec'] = dec\n",
    "    data['radius'] = radius\n",
    "    return ps1search(table=table,release=release,format=format,columns=columns,\n",
    "                    baseurl=baseurl, verbose=verbose, **data)\n",
    "\n",
    "\n",
    "def ps1search(table=\"mean\",release=\"dr1\",format=\"csv\",columns=None,\n",
    "           baseurl=\"https://catalogs.mast.stsci.edu/api/v0.1/panstarrs\", verbose=False,\n",
    "           **kw):\n",
    "    \"\"\"Do a general search of the PS1 catalog (possibly without ra/dec/radius)\n",
    "    \n",
    "    Parameters\n",
    "    ----------\n",
    "    table (string): mean, stack, or detection\n",
    "    release (string): dr1 or dr2\n",
    "    format: csv, votable, json\n",
    "    columns: list of column names to include (None means use defaults)\n",
    "    baseurl: base URL for the request\n",
    "    verbose: print info about request\n",
    "    **kw: other parameters (e.g., 'nDetections.min':2).  Note this is required!\n",
    "    \"\"\"\n",
    "    \n",
    "    data = kw.copy()\n",
    "    if not data:\n",
    "        raise ValueError(\"You must specify some parameters for search\")\n",
    "    checklegal(table,release)\n",
    "    if format not in (\"csv\",\"votable\",\"json\"):\n",
    "        raise ValueError(\"Bad value for format\")\n",
    "    url = f\"{baseurl}/{release}/{table}.{format}\"\n",
    "    if columns:\n",
    "        # check that column values are legal\n",
    "        # create a dictionary to speed this up\n",
    "        dcols = {}\n",
    "        for col in ps1metadata(table,release)['name']:\n",
    "            dcols[col.lower()] = 1\n",
    "        badcols = []\n",
    "        for col in columns:\n",
    "            if col.lower().strip() not in dcols:\n",
    "                badcols.append(col)\n",
    "        if badcols:\n",
    "            raise ValueError('Some columns not found in table: {}'.format(', '.join(badcols)))\n",
    "        # two different ways to specify a list of column values in the API\n",
    "        # data['columns'] = columns\n",
    "        data['columns'] = '[{}]'.format(','.join(columns))\n",
    "\n",
    "# either get or post works\n",
    "#    r = requests.post(url, data=data)\n",
    "    r = requests.get(url, params=data)\n",
    "\n",
    "    if verbose:\n",
    "        print(r.url)\n",
    "    r.raise_for_status()\n",
    "    if format == \"json\":\n",
    "        return r.json()\n",
    "    else:\n",
    "        return r.text\n",
    "\n",
    "\n",
    "def checklegal(table,release):\n",
    "    \"\"\"Checks if this combination of table and release is acceptable\n",
    "    \n",
    "    Raises a VelueError exception if there is problem\n",
    "    \"\"\"\n",
    "    \n",
    "    releaselist = (\"dr1\", \"dr2\")\n",
    "    if release not in (\"dr1\",\"dr2\"):\n",
    "        raise ValueError(\"Bad value for release (must be one of {})\".format(', '.join(releaselist)))\n",
    "    if release==\"dr1\":\n",
    "        tablelist = (\"mean\", \"stack\")\n",
    "    else:\n",
    "        tablelist = (\"mean\", \"stack\", \"detection\")\n",
    "    if table not in tablelist:\n",
    "        raise ValueError(\"Bad value for table (for {} must be one of {})\".format(release, \", \".join(tablelist)))\n",
    "\n",
    "\n",
    "def ps1metadata(table=\"mean\",release=\"dr1\",\n",
    "           baseurl=\"https://catalogs.mast.stsci.edu/api/v0.1/panstarrs\"):\n",
    "    \"\"\"Return metadata for the specified catalog and table\n",
    "    \n",
    "    Parameters\n",
    "    ----------\n",
    "    table (string): mean, stack, or detection\n",
    "    release (string): dr1 or dr2\n",
    "    baseurl: base URL for the request\n",
    "    \n",
    "    Returns an astropy table with columns name, type, description\n",
    "    \"\"\"\n",
    "    \n",
    "    checklegal(table,release)\n",
    "    url = f\"{baseurl}/{release}/{table}/metadata\"\n",
    "    r = requests.get(url)\n",
    "    r.raise_for_status()\n",
    "    v = r.json()\n",
    "    # convert to astropy table\n",
    "    tab = Table(rows=[(x['name'],x['type'],x['description']) for x in v],\n",
    "               names=('name','type','description'))\n",
    "    return tab\n",
    "\n",
    "\n",
    "def mastQuery(request):\n",
    "    \"\"\"Perform a MAST query.\n",
    "\n",
    "    Parameters\n",
    "    ----------\n",
    "    request (dictionary): The MAST request json object\n",
    "\n",
    "    Returns head,content where head is the response HTTP headers, and content is the returned data\n",
    "    \"\"\"\n",
    "    \n",
    "    server='mast.stsci.edu'\n",
    "\n",
    "    # Grab Python Version \n",
    "    version = \".\".join(map(str, sys.version_info[:3]))\n",
    "\n",
    "    # Create Http Header Variables\n",
    "    headers = {\"Content-type\": \"application/x-www-form-urlencoded\",\n",
    "               \"Accept\": \"text/plain\",\n",
    "               \"User-agent\":\"python-requests/\"+version}\n",
    "\n",
    "    # Encoding the request as a json string\n",
    "    requestString = json.dumps(request)\n",
    "    requestString = urlencode(requestString)\n",
    "    \n",
    "    # opening the https connection\n",
    "    conn = httplib.HTTPSConnection(server)\n",
    "\n",
    "    # Making the query\n",
    "    conn.request(\"POST\", \"/api/v0/invoke\", \"request=\"+requestString, headers)\n",
    "\n",
    "    # Getting the response\n",
    "    resp = conn.getresponse()\n",
    "    head = resp.getheaders()\n",
    "    content = resp.read().decode('utf-8')\n",
    "\n",
    "    # Close the https connection\n",
    "    conn.close()\n",
    "\n",
    "    return head,content\n",
    "\n",
    "\n",
    "def resolve(name):\n",
    "    \"\"\"Get the RA and Dec for an object using the MAST name resolver\n",
    "    \n",
    "    Parameters\n",
    "    ----------\n",
    "    name (str): Name of object\n",
    "\n",
    "    Returns RA, Dec tuple with position\"\"\"\n",
    "\n",
    "    resolverRequest = {'service':'Mast.Name.Lookup',\n",
    "                       'params':{'input':name,\n",
    "                                 'format':'json'\n",
    "                                },\n",
    "                      }\n",
    "    headers,resolvedObjectString = mastQuery(resolverRequest)\n",
    "    resolvedObject = json.loads(resolvedObjectString)\n",
    "    # The resolver returns a variety of information about the resolved object, \n",
    "    # however for our purposes all we need are the RA and Dec\n",
    "    try:\n",
    "        objRa = resolvedObject['resolvedCoordinate'][0]['ra']\n",
    "        objDec = resolvedObject['resolvedCoordinate'][0]['decl']\n",
    "    except IndexError as e:\n",
    "        raise ValueError(\"Unknown object '{}'\".format(name))\n",
    "    return (objRa, objDec)\n"
   ]
  },
  {
   "cell_type": "markdown",
   "metadata": {},
   "source": [
    "### Use metadata query to get information on available columns\n",
    "\n",
    "This query works for any of the tables in the API (mean, stack, detection)."
   ]
  },
  {
   "cell_type": "code",
   "execution_count": 3,
   "metadata": {},
   "outputs": [
    {
     "data": {
      "text/html": [
       "<div><i>Table length=124</i>\n",
       "<table id=\"table4584819728\" class=\"table-striped table-bordered table-condensed\">\n",
       "<thead><tr><th>name</th><th>type</th><th>description</th></tr></thead>\n",
       "<thead><tr><th>str17</th><th>str12</th><th>str142</th></tr></thead>\n",
       "<tr><td>objName</td><td>char</td><td>IAU name for this object.</td></tr>\n",
       "<tr><td>objAltName1</td><td>char</td><td>Alternate name for this object.</td></tr>\n",
       "<tr><td>objAltName2</td><td>char</td><td>Altername name for this object.</td></tr>\n",
       "<tr><td>objAltName3</td><td>char</td><td>Altername name for this object.</td></tr>\n",
       "<tr><td>objID</td><td>long</td><td>Unique object identifier.</td></tr>\n",
       "<tr><td>uniquePspsOBid</td><td>long</td><td>Unique internal PSPS object identifier.</td></tr>\n",
       "<tr><td>ippObjID</td><td>long</td><td>IPP internal object identifier.</td></tr>\n",
       "<tr><td>surveyID</td><td>unsignedByte</td><td>Survey identifier.  Details in the Survey table.</td></tr>\n",
       "<tr><td>htmID</td><td>long</td><td>Hierarchical triangular mesh (Szalay 2007) index.</td></tr>\n",
       "<tr><td>zoneID</td><td>int</td><td>Local zone index, found by dividing the sky into bands of declination 1/2 arcminute in height: zoneID = floor((90 + declination)/0.0083333).</td></tr>\n",
       "<tr><td>tessID</td><td>unsignedByte</td><td>Tessellation identifier.  Details in the TessellationType table.</td></tr>\n",
       "<tr><td>projectionID</td><td>short</td><td>Projection cell identifier.</td></tr>\n",
       "<tr><td>skyCellID</td><td>unsignedByte</td><td>Skycell region identifier.</td></tr>\n",
       "<tr><td>randomID</td><td>double</td><td>Random value drawn from the interval between zero and one.</td></tr>\n",
       "<tr><td>batchID</td><td>long</td><td>Internal database batch identifier.</td></tr>\n",
       "<tr><td>dvoRegionID</td><td>int</td><td>Internal DVO region identifier.</td></tr>\n",
       "<tr><td>processingVersion</td><td>unsignedByte</td><td>Data release version.</td></tr>\n",
       "<tr><td>objInfoFlag</td><td>int</td><td>Information flag bitmask indicating details of the photometry.  Values listed in ObjectInfoFlags.</td></tr>\n",
       "<tr><td>qualityFlag</td><td>unsignedByte</td><td>Subset of objInfoFlag denoting whether this object is real or a likely false positive.  Values listed in ObjectQualityFlags.</td></tr>\n",
       "<tr><td>raStack</td><td>double</td><td>Right ascension from stack detections, weighted mean value across filters, in equinox J2000.  See StackObjectThin for stack epoch information.</td></tr>\n",
       "<tr><td>decStack</td><td>double</td><td>Declination from stack detections, weighted mean value across filters, in equinox J2000.  See StackObjectThin for stack epoch information.</td></tr>\n",
       "<tr><td>raStackErr</td><td>float</td><td>Right ascension standard deviation from stack detections.</td></tr>\n",
       "<tr><td>decStackErr</td><td>float</td><td>Declination standard deviation from stack detections.</td></tr>\n",
       "<tr><td>raMean</td><td>double</td><td>Right ascension from single epoch detections (weighted mean) in equinox J2000 at the mean epoch given by epochMean.</td></tr>\n",
       "<tr><td>decMean</td><td>double</td><td>Declination from single epoch detections (weighted mean) in equinox J2000 at the mean epoch given by epochMean.</td></tr>\n",
       "<tr><td>raMeanErr</td><td>float</td><td>Right ascension standard deviation from single epoch detections.</td></tr>\n",
       "<tr><td>...</td><td>...</td><td>...</td></tr>\n",
       "<tr><td>zMeanPSFMagMax</td><td>float</td><td>Maximum PSF magnitude from z filter detections.</td></tr>\n",
       "<tr><td>zMeanKronMag</td><td>float</td><td>Mean Kron (1980) magnitude from z filter detections.</td></tr>\n",
       "<tr><td>zMeanKronMagErr</td><td>float</td><td>Error in mean Kron (1980) magnitude from z filter detections.</td></tr>\n",
       "<tr><td>zMeanKronMagStd</td><td>float</td><td>Standard deviation of Kron (1980) magnitudes from z filter detections.</td></tr>\n",
       "<tr><td>zMeanKronMagNpt</td><td>short</td><td>Number of measurements included in mean Kron (1980) magnitude from z filter detections.</td></tr>\n",
       "<tr><td>zMeanApMag</td><td>float</td><td>Mean aperture magnitude from z filter detections.</td></tr>\n",
       "<tr><td>zMeanApMagErr</td><td>float</td><td>Error in mean aperture magnitude from z filter detections.</td></tr>\n",
       "<tr><td>zMeanApMagStd</td><td>float</td><td>Standard deviation of aperture magnitudes from z filter detections.</td></tr>\n",
       "<tr><td>zMeanApMagNpt</td><td>short</td><td>Number of measurements included in mean aperture magnitude from z filter detections.</td></tr>\n",
       "<tr><td>zFlags</td><td>int</td><td>Information flag bitmask for mean object from z filter detections.  Values listed in ObjectFilterFlags.</td></tr>\n",
       "<tr><td>yQfPerfect</td><td>float</td><td>Maximum PSF weighted fraction of pixels totally unmasked from y filter detections.</td></tr>\n",
       "<tr><td>yMeanPSFMag</td><td>float</td><td>Mean PSF magnitude from y filter detections.</td></tr>\n",
       "<tr><td>yMeanPSFMagErr</td><td>float</td><td>Error in mean PSF magnitude from y filter detections.</td></tr>\n",
       "<tr><td>yMeanPSFMagStd</td><td>float</td><td>Standard deviation of PSF magnitudes from y filter detections.</td></tr>\n",
       "<tr><td>yMeanPSFMagNpt</td><td>short</td><td>Number of measurements included in mean PSF magnitude from y filter detections.</td></tr>\n",
       "<tr><td>yMeanPSFMagMin</td><td>float</td><td>Minimum PSF magnitude from y filter detections.</td></tr>\n",
       "<tr><td>yMeanPSFMagMax</td><td>float</td><td>Maximum PSF magnitude from y filter detections.</td></tr>\n",
       "<tr><td>yMeanKronMag</td><td>float</td><td>Mean Kron (1980) magnitude from y filter detections.</td></tr>\n",
       "<tr><td>yMeanKronMagErr</td><td>float</td><td>Error in mean Kron (1980) magnitude from y filter detections.</td></tr>\n",
       "<tr><td>yMeanKronMagStd</td><td>float</td><td>Standard deviation of Kron (1980) magnitudes from y filter detections.</td></tr>\n",
       "<tr><td>yMeanKronMagNpt</td><td>short</td><td>Number of measurements included in mean Kron (1980) magnitude from y filter detections.</td></tr>\n",
       "<tr><td>yMeanApMag</td><td>float</td><td>Mean aperture magnitude from y filter detections.</td></tr>\n",
       "<tr><td>yMeanApMagErr</td><td>float</td><td>Error in mean aperture magnitude from y filter detections.</td></tr>\n",
       "<tr><td>yMeanApMagStd</td><td>float</td><td>Standard deviation of aperture magnitudes from y filter detections.</td></tr>\n",
       "<tr><td>yMeanApMagNpt</td><td>short</td><td>Number of measurements included in mean aperture magnitude from y filter detections.</td></tr>\n",
       "<tr><td>yFlags</td><td>int</td><td>Information flag bitmask for mean object from y filter detections.  Values listed in ObjectFilterFlags.</td></tr>\n",
       "</table></div>"
      ],
      "text/plain": [
       "<Table length=124>\n",
       "       name           type                                                                      description                                                                  \n",
       "      str17          str12                                                                         str142                                                                    \n",
       "----------------- ------------ ----------------------------------------------------------------------------------------------------------------------------------------------\n",
       "          objName         char                                                                                                                      IAU name for this object.\n",
       "      objAltName1         char                                                                                                                Alternate name for this object.\n",
       "      objAltName2         char                                                                                                                Altername name for this object.\n",
       "      objAltName3         char                                                                                                                Altername name for this object.\n",
       "            objID         long                                                                                                                      Unique object identifier.\n",
       "   uniquePspsOBid         long                                                                                                        Unique internal PSPS object identifier.\n",
       "         ippObjID         long                                                                                                                IPP internal object identifier.\n",
       "         surveyID unsignedByte                                                                                               Survey identifier.  Details in the Survey table.\n",
       "            htmID         long                                                                                              Hierarchical triangular mesh (Szalay 2007) index.\n",
       "           zoneID          int   Local zone index, found by dividing the sky into bands of declination 1/2 arcminute in height: zoneID = floor((90 + declination)/0.0083333).\n",
       "           tessID unsignedByte                                                                               Tessellation identifier.  Details in the TessellationType table.\n",
       "     projectionID        short                                                                                                                    Projection cell identifier.\n",
       "        skyCellID unsignedByte                                                                                                                     Skycell region identifier.\n",
       "         randomID       double                                                                                     Random value drawn from the interval between zero and one.\n",
       "          batchID         long                                                                                                            Internal database batch identifier.\n",
       "      dvoRegionID          int                                                                                                                Internal DVO region identifier.\n",
       "processingVersion unsignedByte                                                                                                                          Data release version.\n",
       "      objInfoFlag          int                                              Information flag bitmask indicating details of the photometry.  Values listed in ObjectInfoFlags.\n",
       "      qualityFlag unsignedByte                   Subset of objInfoFlag denoting whether this object is real or a likely false positive.  Values listed in ObjectQualityFlags.\n",
       "          raStack       double Right ascension from stack detections, weighted mean value across filters, in equinox J2000.  See StackObjectThin for stack epoch information.\n",
       "         decStack       double     Declination from stack detections, weighted mean value across filters, in equinox J2000.  See StackObjectThin for stack epoch information.\n",
       "       raStackErr        float                                                                                      Right ascension standard deviation from stack detections.\n",
       "      decStackErr        float                                                                                          Declination standard deviation from stack detections.\n",
       "           raMean       double                            Right ascension from single epoch detections (weighted mean) in equinox J2000 at the mean epoch given by epochMean.\n",
       "          decMean       double                                Declination from single epoch detections (weighted mean) in equinox J2000 at the mean epoch given by epochMean.\n",
       "        raMeanErr        float                                                                               Right ascension standard deviation from single epoch detections.\n",
       "              ...          ...                                                                                                                                            ...\n",
       "   zMeanPSFMagMax        float                                                                                                Maximum PSF magnitude from z filter detections.\n",
       "     zMeanKronMag        float                                                                                           Mean Kron (1980) magnitude from z filter detections.\n",
       "  zMeanKronMagErr        float                                                                                  Error in mean Kron (1980) magnitude from z filter detections.\n",
       "  zMeanKronMagStd        float                                                                         Standard deviation of Kron (1980) magnitudes from z filter detections.\n",
       "  zMeanKronMagNpt        short                                                        Number of measurements included in mean Kron (1980) magnitude from z filter detections.\n",
       "       zMeanApMag        float                                                                                              Mean aperture magnitude from z filter detections.\n",
       "    zMeanApMagErr        float                                                                                     Error in mean aperture magnitude from z filter detections.\n",
       "    zMeanApMagStd        float                                                                            Standard deviation of aperture magnitudes from z filter detections.\n",
       "    zMeanApMagNpt        short                                                           Number of measurements included in mean aperture magnitude from z filter detections.\n",
       "           zFlags          int                                        Information flag bitmask for mean object from z filter detections.  Values listed in ObjectFilterFlags.\n",
       "       yQfPerfect        float                                                             Maximum PSF weighted fraction of pixels totally unmasked from y filter detections.\n",
       "      yMeanPSFMag        float                                                                                                   Mean PSF magnitude from y filter detections.\n",
       "   yMeanPSFMagErr        float                                                                                          Error in mean PSF magnitude from y filter detections.\n",
       "   yMeanPSFMagStd        float                                                                                 Standard deviation of PSF magnitudes from y filter detections.\n",
       "   yMeanPSFMagNpt        short                                                                Number of measurements included in mean PSF magnitude from y filter detections.\n",
       "   yMeanPSFMagMin        float                                                                                                Minimum PSF magnitude from y filter detections.\n",
       "   yMeanPSFMagMax        float                                                                                                Maximum PSF magnitude from y filter detections.\n",
       "     yMeanKronMag        float                                                                                           Mean Kron (1980) magnitude from y filter detections.\n",
       "  yMeanKronMagErr        float                                                                                  Error in mean Kron (1980) magnitude from y filter detections.\n",
       "  yMeanKronMagStd        float                                                                         Standard deviation of Kron (1980) magnitudes from y filter detections.\n",
       "  yMeanKronMagNpt        short                                                        Number of measurements included in mean Kron (1980) magnitude from y filter detections.\n",
       "       yMeanApMag        float                                                                                              Mean aperture magnitude from y filter detections.\n",
       "    yMeanApMagErr        float                                                                                     Error in mean aperture magnitude from y filter detections.\n",
       "    yMeanApMagStd        float                                                                            Standard deviation of aperture magnitudes from y filter detections.\n",
       "    yMeanApMagNpt        short                                                           Number of measurements included in mean aperture magnitude from y filter detections.\n",
       "           yFlags          int                                        Information flag bitmask for mean object from y filter detections.  Values listed in ObjectFilterFlags."
      ]
     },
     "execution_count": 3,
     "metadata": {},
     "output_type": "execute_result"
    }
   ],
   "source": [
    "meta = ps1metadata(\"mean\",\"dr2\")\n",
    "meta"
   ]
  },
  {
   "cell_type": "code",
   "execution_count": 12,
   "metadata": {},
   "outputs": [
    {
     "data": {
      "text/plain": [
       "(28.924754166666663, 31.417930555555557)"
      ]
     },
     "execution_count": 12,
     "metadata": {},
     "output_type": "execute_result"
    }
   ],
   "source": [
    "c = SkyCoord('01h55m41.941s', '+31d25m04.55s', frame='icrs')\n",
    "\n",
    "c.ra.deg, c.dec.deg"
   ]
  },
  {
   "cell_type": "markdown",
   "metadata": {},
   "source": [
    "## Simple positional query\n",
    "\n",
    "Search mean object table with nDetections > 1.\n",
    "\n",
    "This searches the mean object catalog for objects within 60 arcsec of AT2019wxt (RA=, Dec= in degrees). Note that the results are restricted to objects with `nDetections>1`, where `nDetections` is the total number of times the object was detected on the single-epoch images in any filter at any time.  Objects with `nDetections=1` tend to be  artifacts, so this is a quick way to eliminate most spurious objects from the catalog."
   ]
  },
  {
   "cell_type": "code",
   "execution_count": 13,
   "metadata": {
    "scrolled": false
   },
   "outputs": [
    {
     "name": "stdout",
     "output_type": "stream",
     "text": [
      "https://catalogs.mast.stsci.edu/api/v0.1/panstarrs/dr2/mean.csv?nDetections.gt=1&ra=28.924754166666663&dec=31.417930555555557&radius=0.016666666666666666&columns=%5BobjID%2CraMean%2CdecMean%2CnDetections%2Cng%2Cnr%2Cni%2Cnz%2Cny%2CgMeanPSFMag%2CrMeanPSFMag%2CiMeanPSFMag%2CzMeanPSFMag%2CyMeanPSFMag%5D\n",
      "38 rows in results -- first 5 rows:\n",
      "objID,raMean,decMean,nDetections,ng,nr,ni,nz,ny,gMeanPSFMag,rMeanPSFMag,iMeanPSFMag,zMeanPSFMag,yMeanPSFMag\r\n",
      "145680289172828132,28.91716026608248,31.40632550937705,3,0,3,0,0,0,-999.0,21.944900512695312,-999.0,-999.0,-999.0\r\n",
      "145680289220566689,28.922067984494475,31.405023095045813,4,0,0,2,2,0,-999.0,-999.0,21.525299072265625,21.132699966430664,-999.0\r\n",
      "145680289223496461,28.92202052,31.40500913,3,0,0,3,0,0,-999.0,-999.0,21.838199615478516,-999.0,-999.0\r\n",
      "145680289240554232,28.923999492419437,31.40301928450843,40,4,13,14,8,1,21.593900680541992,21.417400360107422,20.89419937133789,20.680599212646484,19.940399169921875\r\n",
      "145680289241139358,28.92419259,31.40728366,2,0,0,2,0,0,-999.0,-999.0,21.174999237060547,-999.0,-999.0\r\n"
     ]
    }
   ],
   "source": [
    "ra = c.ra.deg\n",
    "dec = c.dec.deg\n",
    "radius = 60.0/3600.0\n",
    "constraints = {'nDetections.gt':1}\n",
    "\n",
    "# strip blanks and weed out blank and commented-out values\n",
    "columns = \"\"\"objID,raMean,decMean,nDetections,ng,nr,ni,nz,ny,\n",
    "    gMeanPSFMag,rMeanPSFMag,iMeanPSFMag,zMeanPSFMag,yMeanPSFMag\"\"\".split(',')\n",
    "columns = [x.strip() for x in columns]\n",
    "columns = [x for x in columns if x and not x.startswith('#')]\n",
    "results = ps1cone(ra,dec,radius,release='dr2',columns=columns,verbose=True,**constraints)\n",
    "# print first few lines\n",
    "lines = results.split('\\n')\n",
    "print(len(lines),\"rows in results -- first 5 rows:\")\n",
    "print('\\n'.join(lines[:6]))"
   ]
  },
  {
   "cell_type": "markdown",
   "metadata": {},
   "source": [
    "### Convert the results to an astropy table\n",
    "\n",
    "The CSV results string is easily converted to an [astropy table](http://docs.astropy.org/en/stable/table/).  This table is easily manipulated to extract information on individual columns or rows."
   ]
  },
  {
   "cell_type": "code",
   "execution_count": 14,
   "metadata": {},
   "outputs": [
    {
     "data": {
      "text/html": [
       "<div><i>Table length=36</i>\n",
       "<table id=\"table5177286720\" class=\"table-striped table-bordered table-condensed\">\n",
       "<thead><tr><th>objID</th><th>raMean</th><th>decMean</th><th>nDetections</th><th>ng</th><th>nr</th><th>ni</th><th>nz</th><th>ny</th><th>gMeanPSFMag</th><th>rMeanPSFMag</th><th>iMeanPSFMag</th><th>zMeanPSFMag</th><th>yMeanPSFMag</th></tr></thead>\n",
       "<thead><tr><th>int64</th><th>float64</th><th>float64</th><th>int64</th><th>int64</th><th>int64</th><th>int64</th><th>int64</th><th>int64</th><th>float64</th><th>float64</th><th>float64</th><th>float64</th><th>float64</th></tr></thead>\n",
       "<tr><td>145680289172828132</td><td>28.91716026608248</td><td>31.40632550937705</td><td>3</td><td>0</td><td>3</td><td>0</td><td>0</td><td>0</td><td>nan</td><td>21.9449</td><td>nan</td><td>nan</td><td>nan</td></tr>\n",
       "<tr><td>145680289220566689</td><td>28.922067984494475</td><td>31.405023095045813</td><td>4</td><td>0</td><td>0</td><td>2</td><td>2</td><td>0</td><td>nan</td><td>nan</td><td>21.5253</td><td>21.1327</td><td>nan</td></tr>\n",
       "<tr><td>145680289223496461</td><td>28.92202052</td><td>31.40500913</td><td>3</td><td>0</td><td>0</td><td>3</td><td>0</td><td>0</td><td>nan</td><td>nan</td><td>21.8382</td><td>nan</td><td>nan</td></tr>\n",
       "<tr><td>145680289240554232</td><td>28.923999492419437</td><td>31.40301928450843</td><td>40</td><td>4</td><td>13</td><td>14</td><td>8</td><td>1</td><td>21.5939</td><td>21.4174</td><td>20.8942</td><td>20.6806</td><td>19.9404</td></tr>\n",
       "<tr><td>145680289241139358</td><td>28.92419259</td><td>31.40728366</td><td>2</td><td>0</td><td>0</td><td>2</td><td>0</td><td>0</td><td>nan</td><td>nan</td><td>21.1750</td><td>nan</td><td>nan</td></tr>\n",
       "<tr><td>145680289269278255</td><td>28.92698361</td><td>31.4064173</td><td>2</td><td>0</td><td>0</td><td>2</td><td>0</td><td>0</td><td>nan</td><td>nan</td><td>20.6743</td><td>nan</td><td>nan</td></tr>\n",
       "<tr><td>145680289272048441</td><td>28.92712990950525</td><td>31.406462267424793</td><td>42</td><td>8</td><td>14</td><td>13</td><td>7</td><td>0</td><td>21.0249</td><td>20.9407</td><td>20.5545</td><td>20.5591</td><td>nan</td></tr>\n",
       "<tr><td>145680289283574991</td><td>28.9283984705844</td><td>31.40365385044339</td><td>3</td><td>1</td><td>2</td><td>0</td><td>0</td><td>0</td><td>21.4670</td><td>22.0075</td><td>nan</td><td>nan</td><td>nan</td></tr>\n",
       "<tr><td>145690289065036104</td><td>28.906519074293335</td><td>31.412932972155907</td><td>9</td><td>0</td><td>6</td><td>2</td><td>1</td><td>0</td><td>nan</td><td>21.7667</td><td>21.2962</td><td>20.7850</td><td>nan</td></tr>\n",
       "<tr><td>145690289132248845</td><td>28.91329978</td><td>31.41523545</td><td>2</td><td>0</td><td>0</td><td>1</td><td>1</td><td>0</td><td>nan</td><td>nan</td><td>21.4515</td><td>21.2388</td><td>nan</td></tr>\n",
       "<tr><td>145690289151265315</td><td>28.915114412095487</td><td>31.412287041496516</td><td>4</td><td>0</td><td>2</td><td>2</td><td>0</td><td>0</td><td>nan</td><td>21.6885</td><td>21.4047</td><td>nan</td><td>nan</td></tr>\n",
       "<tr><td>145690289242545787</td><td>28.92424378511142</td><td>31.41264996356934</td><td>54</td><td>6</td><td>15</td><td>14</td><td>9</td><td>10</td><td>20.6614</td><td>19.3923</td><td>18.5712</td><td>18.1855</td><td>17.9935</td></tr>\n",
       "<tr><td>145690289379844732</td><td>28.93793075</td><td>31.41173657</td><td>2</td><td>0</td><td>2</td><td>0</td><td>0</td><td>0</td><td>nan</td><td>22.1015</td><td>nan</td><td>nan</td><td>nan</td></tr>\n",
       "<tr><td>145690289390198209</td><td>28.939078411775316</td><td>31.41455356329755</td><td>9</td><td>0</td><td>5</td><td>4</td><td>0</td><td>0</td><td>nan</td><td>21.8302</td><td>21.7870</td><td>nan</td><td>nan</td></tr>\n",
       "<tr><td>145690289393590540</td><td>28.93939705</td><td>31.40840819</td><td>2</td><td>0</td><td>0</td><td>2</td><td>0</td><td>0</td><td>nan</td><td>nan</td><td>20.4234</td><td>nan</td><td>nan</td></tr>\n",
       "<tr><td>145700289055703837</td><td>28.90558621971339</td><td>31.419307849864534</td><td>8</td><td>0</td><td>1</td><td>5</td><td>2</td><td>0</td><td>nan</td><td>22.2681</td><td>21.7263</td><td>21.1523</td><td>nan</td></tr>\n",
       "<tr><td>145700289085125291</td><td>28.908489378408543</td><td>31.42055110340217</td><td>15</td><td>0</td><td>0</td><td>7</td><td>5</td><td>3</td><td>nan</td><td>nan</td><td>21.4329</td><td>20.4271</td><td>19.8906</td></tr>\n",
       "<tr><td>145700289143909941</td><td>28.91425861</td><td>31.42430278</td><td>2</td><td>0</td><td>0</td><td>1</td><td>1</td><td>0</td><td>nan</td><td>nan</td><td>20.0417</td><td>19.1500</td><td>nan</td></tr>\n",
       "<tr><td>145700289166885304</td><td>28.916672130749255</td><td>31.42057120341461</td><td>58</td><td>4</td><td>16</td><td>18</td><td>9</td><td>11</td><td>19.1174</td><td>18.0211</td><td>17.5139</td><td>17.2737</td><td>17.1259</td></tr>\n",
       "<tr><td>145700289196763790</td><td>28.91967225</td><td>31.41941477</td><td>2</td><td>0</td><td>0</td><td>0</td><td>2</td><td>0</td><td>nan</td><td>nan</td><td>nan</td><td>20.0302</td><td>nan</td></tr>\n",
       "<tr><td>145700289218092486</td><td>28.92191317</td><td>31.41830494</td><td>2</td><td>0</td><td>1</td><td>1</td><td>0</td><td>0</td><td>nan</td><td>17.4907</td><td>16.7805</td><td>nan</td><td>nan</td></tr>\n",
       "<tr><td>145700289223582331</td><td>28.922343346946498</td><td>31.418112629471295</td><td>56</td><td>4</td><td>16</td><td>16</td><td>9</td><td>11</td><td>17.2522</td><td>16.9649</td><td>16.5605</td><td>16.3623</td><td>16.1565</td></tr>\n",
       "<tr><td>145700289232741764</td><td>28.92330452</td><td>31.41768634</td><td>2</td><td>2</td><td>0</td><td>0</td><td>0</td><td>0</td><td>18.6691</td><td>nan</td><td>nan</td><td>nan</td><td>nan</td></tr>\n",
       "<tr><td>145700289242566177</td><td>28.924214916404036</td><td>31.42128238733221</td><td>46</td><td>1</td><td>14</td><td>17</td><td>8</td><td>6</td><td>20.7365</td><td>20.3110</td><td>19.8431</td><td>19.6479</td><td>19.4901</td></tr>\n",
       "<tr><td>145700289262984766</td><td>28.92627795783832</td><td>31.420139417403714</td><td>12</td><td>0</td><td>0</td><td>4</td><td>7</td><td>1</td><td>nan</td><td>nan</td><td>21.2198</td><td>20.6324</td><td>19.8918</td></tr>\n",
       "<tr><td>145700289271674373</td><td>28.92726368</td><td>31.41976858</td><td>3</td><td>0</td><td>0</td><td>3</td><td>0</td><td>0</td><td>nan</td><td>nan</td><td>20.6246</td><td>nan</td><td>nan</td></tr>\n",
       "<tr><td>145700289293161512</td><td>28.92932785</td><td>31.41745815</td><td>2</td><td>1</td><td>0</td><td>1</td><td>0</td><td>0</td><td>19.1854</td><td>nan</td><td>20.9127</td><td>nan</td><td>nan</td></tr>\n",
       "<tr><td>145700289393632768</td><td>28.93926607</td><td>31.41845047</td><td>2</td><td>0</td><td>1</td><td>0</td><td>1</td><td>0</td><td>nan</td><td>21.7742</td><td>nan</td><td>21.0284</td><td>nan</td></tr>\n",
       "<tr><td>145700289414383192</td><td>28.94142334531209</td><td>31.418793956431387</td><td>54</td><td>0</td><td>11</td><td>18</td><td>12</td><td>13</td><td>nan</td><td>21.4303</td><td>20.2983</td><td>19.7357</td><td>19.4634</td></tr>\n",
       "<tr><td>145710289136231436</td><td>28.91361589</td><td>31.42572449</td><td>2</td><td>0</td><td>0</td><td>2</td><td>0</td><td>0</td><td>nan</td><td>nan</td><td>17.4002</td><td>nan</td><td>nan</td></tr>\n",
       "<tr><td>145710289145891477</td><td>28.914740002856394</td><td>31.425744598189134</td><td>59</td><td>6</td><td>18</td><td>14</td><td>10</td><td>11</td><td>12.8730</td><td>12.6020</td><td>12.5480</td><td>12.5670</td><td>12.5637</td></tr>\n",
       "<tr><td>145710289202332219</td><td>28.92036076</td><td>31.4262954</td><td>2</td><td>0</td><td>0</td><td>2</td><td>0</td><td>0</td><td>nan</td><td>nan</td><td>20.9535</td><td>nan</td><td>nan</td></tr>\n",
       "<tr><td>145710289255442434</td><td>28.9255394290648</td><td>31.426527369230225</td><td>43</td><td>1</td><td>12</td><td>15</td><td>6</td><td>9</td><td>21.5594</td><td>20.8706</td><td>19.6035</td><td>19.0412</td><td>18.7090</td></tr>\n",
       "<tr><td>145710289313419848</td><td>28.93128723</td><td>31.43270468</td><td>2</td><td>0</td><td>2</td><td>0</td><td>0</td><td>0</td><td>nan</td><td>21.9844</td><td>nan</td><td>nan</td><td>nan</td></tr>\n",
       "<tr><td>145710289350156640</td><td>28.93500701350728</td><td>31.430026852516182</td><td>60</td><td>6</td><td>16</td><td>16</td><td>10</td><td>12</td><td>15.4279</td><td>14.9291</td><td>14.7805</td><td>14.7476</td><td>14.6854</td></tr>\n",
       "<tr><td>145710289351787386</td><td>28.93524149</td><td>31.43070572</td><td>2</td><td>2</td><td>0</td><td>0</td><td>0</td><td>0</td><td>19.6342</td><td>nan</td><td>nan</td><td>nan</td><td>nan</td></tr>\n",
       "</table></div>"
      ],
      "text/plain": [
       "<Table length=36>\n",
       "      objID              raMean            decMean       nDetections   ng    nr    ni    nz    ny  gMeanPSFMag rMeanPSFMag iMeanPSFMag zMeanPSFMag yMeanPSFMag\n",
       "      int64             float64            float64          int64    int64 int64 int64 int64 int64   float64     float64     float64     float64     float64  \n",
       "------------------ ------------------ ------------------ ----------- ----- ----- ----- ----- ----- ----------- ----------- ----------- ----------- -----------\n",
       "145680289172828132  28.91716026608248  31.40632550937705           3     0     3     0     0     0         nan     21.9449         nan         nan         nan\n",
       "145680289220566689 28.922067984494475 31.405023095045813           4     0     0     2     2     0         nan         nan     21.5253     21.1327         nan\n",
       "145680289223496461        28.92202052        31.40500913           3     0     0     3     0     0         nan         nan     21.8382         nan         nan\n",
       "145680289240554232 28.923999492419437  31.40301928450843          40     4    13    14     8     1     21.5939     21.4174     20.8942     20.6806     19.9404\n",
       "145680289241139358        28.92419259        31.40728366           2     0     0     2     0     0         nan         nan     21.1750         nan         nan\n",
       "145680289269278255        28.92698361         31.4064173           2     0     0     2     0     0         nan         nan     20.6743         nan         nan\n",
       "145680289272048441  28.92712990950525 31.406462267424793          42     8    14    13     7     0     21.0249     20.9407     20.5545     20.5591         nan\n",
       "145680289283574991   28.9283984705844  31.40365385044339           3     1     2     0     0     0     21.4670     22.0075         nan         nan         nan\n",
       "145690289065036104 28.906519074293335 31.412932972155907           9     0     6     2     1     0         nan     21.7667     21.2962     20.7850         nan\n",
       "145690289132248845        28.91329978        31.41523545           2     0     0     1     1     0         nan         nan     21.4515     21.2388         nan\n",
       "145690289151265315 28.915114412095487 31.412287041496516           4     0     2     2     0     0         nan     21.6885     21.4047         nan         nan\n",
       "145690289242545787  28.92424378511142  31.41264996356934          54     6    15    14     9    10     20.6614     19.3923     18.5712     18.1855     17.9935\n",
       "145690289379844732        28.93793075        31.41173657           2     0     2     0     0     0         nan     22.1015         nan         nan         nan\n",
       "145690289390198209 28.939078411775316  31.41455356329755           9     0     5     4     0     0         nan     21.8302     21.7870         nan         nan\n",
       "145690289393590540        28.93939705        31.40840819           2     0     0     2     0     0         nan         nan     20.4234         nan         nan\n",
       "145700289055703837  28.90558621971339 31.419307849864534           8     0     1     5     2     0         nan     22.2681     21.7263     21.1523         nan\n",
       "145700289085125291 28.908489378408543  31.42055110340217          15     0     0     7     5     3         nan         nan     21.4329     20.4271     19.8906\n",
       "145700289143909941        28.91425861        31.42430278           2     0     0     1     1     0         nan         nan     20.0417     19.1500         nan\n",
       "145700289166885304 28.916672130749255  31.42057120341461          58     4    16    18     9    11     19.1174     18.0211     17.5139     17.2737     17.1259\n",
       "145700289196763790        28.91967225        31.41941477           2     0     0     0     2     0         nan         nan         nan     20.0302         nan\n",
       "145700289218092486        28.92191317        31.41830494           2     0     1     1     0     0         nan     17.4907     16.7805         nan         nan\n",
       "145700289223582331 28.922343346946498 31.418112629471295          56     4    16    16     9    11     17.2522     16.9649     16.5605     16.3623     16.1565\n",
       "145700289232741764        28.92330452        31.41768634           2     2     0     0     0     0     18.6691         nan         nan         nan         nan\n",
       "145700289242566177 28.924214916404036  31.42128238733221          46     1    14    17     8     6     20.7365     20.3110     19.8431     19.6479     19.4901\n",
       "145700289262984766  28.92627795783832 31.420139417403714          12     0     0     4     7     1         nan         nan     21.2198     20.6324     19.8918\n",
       "145700289271674373        28.92726368        31.41976858           3     0     0     3     0     0         nan         nan     20.6246         nan         nan\n",
       "145700289293161512        28.92932785        31.41745815           2     1     0     1     0     0     19.1854         nan     20.9127         nan         nan\n",
       "145700289393632768        28.93926607        31.41845047           2     0     1     0     1     0         nan     21.7742         nan     21.0284         nan\n",
       "145700289414383192  28.94142334531209 31.418793956431387          54     0    11    18    12    13         nan     21.4303     20.2983     19.7357     19.4634\n",
       "145710289136231436        28.91361589        31.42572449           2     0     0     2     0     0         nan         nan     17.4002         nan         nan\n",
       "145710289145891477 28.914740002856394 31.425744598189134          59     6    18    14    10    11     12.8730     12.6020     12.5480     12.5670     12.5637\n",
       "145710289202332219        28.92036076         31.4262954           2     0     0     2     0     0         nan         nan     20.9535         nan         nan\n",
       "145710289255442434   28.9255394290648 31.426527369230225          43     1    12    15     6     9     21.5594     20.8706     19.6035     19.0412     18.7090\n",
       "145710289313419848        28.93128723        31.43270468           2     0     2     0     0     0         nan     21.9844         nan         nan         nan\n",
       "145710289350156640  28.93500701350728 31.430026852516182          60     6    16    16    10    12     15.4279     14.9291     14.7805     14.7476     14.6854\n",
       "145710289351787386        28.93524149        31.43070572           2     2     0     0     0     0     19.6342         nan         nan         nan         nan"
      ]
     },
     "execution_count": 14,
     "metadata": {},
     "output_type": "execute_result"
    }
   ],
   "source": [
    "tab = ascii.read(results)\n",
    "# improve the format\n",
    "for filter in 'grizy':\n",
    "    col = filter+'MeanPSFMag'\n",
    "    try:\n",
    "        tab[col].format = \".4f\"\n",
    "        tab[col][tab[col] == -999.0] = np.nan\n",
    "    except KeyError:\n",
    "        print(\"{} not found\".format(col))\n",
    "tab"
   ]
  },
  {
   "cell_type": "markdown",
   "metadata": {},
   "source": [
    "### Query for a single object by objID\n",
    "\n",
    "It is possible to query the catalog directly on the object identifier without any RA/Dec restriction.  This might not be particularly useful when search for objects, but it is very useful when searching the detection table for time-series data."
   ]
  },
  {
   "cell_type": "code",
   "execution_count": null,
   "metadata": {},
   "outputs": [],
   "source": [
    "results1 = ps1search(release='dr2',columns=columns,verbose=True,objid=122851876947049923)\n",
    "tab1 = ascii.read(results1)\n",
    "# improve the format\n",
    "for filter in 'grizy':\n",
    "    col = filter+'MeanPSFMag'\n",
    "    try:\n",
    "        tab1[col].format = \".4f\"\n",
    "        tab1[col][tab1[col] == -999.0] = np.nan\n",
    "    except KeyError:\n",
    "        print(\"{} not found\".format(col))\n",
    "tab1"
   ]
  },
  {
   "cell_type": "markdown",
   "metadata": {},
   "source": [
    "### Search stack objects at same position\n",
    "\n",
    "There is no need for the `nDetections` limit for stack objects, which can in fact have `nDetections = 0` for objects that are too faint to be detected on single-epoch images.  But we require `primaryDetection=1` in order to eliminate duplicate sources at the edges of the skycell regions used for processing.  (There is another column `bestDetection` that would be better suited for this test but is currently not correct in the database.)"
   ]
  },
  {
   "cell_type": "code",
   "execution_count": null,
   "metadata": {},
   "outputs": [],
   "source": [
    "sconstraints = {'primaryDetection':1}\n",
    "\n",
    "scolumns = \"\"\"objID,raMean,decMean,nDetections,ng,nr,ni,nz,ny,\n",
    "    nStackDetections,primaryDetection,\n",
    "    gPSFMag,rPSFMag,iPSFMag,zPSFMag,yPSFMag\"\"\".split(',')\n",
    "# strip blanks and weed out blank and commented-out values\n",
    "scolumns = [x.strip() for x in scolumns]\n",
    "scolumns = [x for x in scolumns if x and not x.startswith('#')]\n",
    "\n",
    "sresults = ps1cone(ra,dec,radius,table=\"stack\",release=\"dr2\",columns=scolumns,verbose=True,**sconstraints)\n",
    "stab = ascii.read(sresults)\n",
    "for col in scolumns:\n",
    "    try:\n",
    "        stab[col]\n",
    "    except KeyError:\n",
    "        print(col,\"not found\")\n",
    "# improve the format\n",
    "for filter in 'grizy':\n",
    "    col = filter+'PSFMag'\n",
    "    try:\n",
    "        stab[col].format = \".4f\"\n",
    "        stab[col][stab[col] == -999.0] = np.nan\n",
    "    except KeyError:\n",
    "        print(\"{} not found\".format(col))\n",
    "stab"
   ]
  },
  {
   "cell_type": "markdown",
   "metadata": {},
   "source": [
    "### Explore the tables\n",
    "\n",
    "Match the stack and mean tables and look at the subset of sources that are detected in both catalogs.  The commented-out lines show how to restrict the joined table to only stack detections and to only stack non-detections."
   ]
  },
  {
   "cell_type": "code",
   "execution_count": null,
   "metadata": {},
   "outputs": [],
   "source": [
    "from astropy.table import join\n",
    "jtab = join(stab,tab,join_type='outer')\n",
    "jtab.sort('objID')\n",
    "jtab_both = jtab[(jtab['primaryDetection']==1) & (jtab['nDetections']>1)]\n",
    "\n",
    "#jtab[jtab['nStackDetections'].mask].show_in_notebook()\n",
    "#jtab[~jtab['nStackDetections'].mask].show_in_notebook()\n",
    "#jtab.show_in_notebook()\n",
    "jtab_both.show_in_notebook()"
   ]
  },
  {
   "cell_type": "markdown",
   "metadata": {},
   "source": [
    "### Plot RA & Dec positions of mean and stack objects\n",
    "\n",
    "Note that `raMean` and `decMean` are defined for all objects, including stack-only objects.   For objects detected only on the stacked images, the `raStack` and `decStack` values are given in the `raMean` and `decMean` columns.  That makes it simple to analyze the positions without testing to see what positions are available."
   ]
  },
  {
   "cell_type": "code",
   "execution_count": null,
   "metadata": {},
   "outputs": [],
   "source": [
    "plt.rcParams.update({'font.size': 16})\n",
    "plt.figure(1,(10,10))\n",
    "plt.plot(tab['raMean'], tab['decMean'], 'ro', label='Mean (nDet>1)')\n",
    "plt.plot(stab['raMean'], stab['decMean'], 'bo', label='Stack')\n",
    "plt.plot(jtab_both['raMean'], jtab_both['decMean'], 'go', label='Both')\n",
    "\n",
    "plt.xlabel('RA [deg]')\n",
    "plt.ylabel('Dec [deg]')\n",
    "plt.legend(loc='best')"
   ]
  },
  {
   "cell_type": "markdown",
   "metadata": {},
   "source": [
    "## Get DR2 light curve for RR Lyrae star KQ UMa\n",
    "\n",
    "This time we start with the object name, use the MAST name resolver (which relies on Simbad and NED) to convert the name to RA and Dec, and then query the PS1 DR2 mean object catalog at that position.  A small search radius is used so only a single object is returned."
   ]
  },
  {
   "cell_type": "code",
   "execution_count": 16,
   "metadata": {},
   "outputs": [
    {
     "ename": "FileNotFoundError",
     "evalue": "[Errno 2] No such file or directory: ''",
     "output_type": "error",
     "traceback": [
      "\u001b[0;31m---------------------------------------------------------------------------\u001b[0m",
      "\u001b[0;31mFileNotFoundError\u001b[0m                         Traceback (most recent call last)",
      "Input \u001b[0;32mIn [16]\u001b[0m, in \u001b[0;36m<module>\u001b[0;34m\u001b[0m\n\u001b[1;32m      3\u001b[0m radius \u001b[38;5;241m=\u001b[39m \u001b[38;5;241m1.0\u001b[39m\u001b[38;5;241m/\u001b[39m\u001b[38;5;241m3600.0\u001b[39m \u001b[38;5;66;03m# radius = 1 arcsec\u001b[39;00m\n\u001b[1;32m      5\u001b[0m results \u001b[38;5;241m=\u001b[39m ps1cone(ra,dec,radius,release\u001b[38;5;241m=\u001b[39m\u001b[38;5;124m'\u001b[39m\u001b[38;5;124mdr2\u001b[39m\u001b[38;5;124m'\u001b[39m,columns\u001b[38;5;241m=\u001b[39mcolumns,\u001b[38;5;241m*\u001b[39m\u001b[38;5;241m*\u001b[39mconstraints)\n\u001b[0;32m----> 6\u001b[0m tab \u001b[38;5;241m=\u001b[39m \u001b[43mascii\u001b[49m\u001b[38;5;241;43m.\u001b[39;49m\u001b[43mread\u001b[49m\u001b[43m(\u001b[49m\u001b[43mresults\u001b[49m\u001b[43m)\u001b[49m\n\u001b[1;32m      7\u001b[0m \u001b[38;5;66;03m# improve the format\u001b[39;00m\n\u001b[1;32m      8\u001b[0m \u001b[38;5;28;01mfor\u001b[39;00m \u001b[38;5;28mfilter\u001b[39m \u001b[38;5;129;01min\u001b[39;00m \u001b[38;5;124m'\u001b[39m\u001b[38;5;124mgrizy\u001b[39m\u001b[38;5;124m'\u001b[39m:\n",
      "File \u001b[0;32m~/Py36/lib/python3.8/site-packages/astropy/io/ascii/ui.py:341\u001b[0m, in \u001b[0;36mread\u001b[0;34m(table, guess, **kwargs)\u001b[0m\n\u001b[1;32m    335\u001b[0m             new_kwargs[\u001b[38;5;124m'\u001b[39m\u001b[38;5;124mguess_html\u001b[39m\u001b[38;5;124m'\u001b[39m] \u001b[38;5;241m=\u001b[39m _probably_html(table)\n\u001b[1;32m    337\u001b[0m \u001b[38;5;66;03m# Get the table from guess in ``dat``.  If ``dat`` comes back as None\u001b[39;00m\n\u001b[1;32m    338\u001b[0m \u001b[38;5;66;03m# then there was just one set of kwargs in the guess list so fall\u001b[39;00m\n\u001b[1;32m    339\u001b[0m \u001b[38;5;66;03m# through below to the non-guess way so that any problems result in a\u001b[39;00m\n\u001b[1;32m    340\u001b[0m \u001b[38;5;66;03m# more useful traceback.\u001b[39;00m\n\u001b[0;32m--> 341\u001b[0m dat \u001b[38;5;241m=\u001b[39m \u001b[43m_guess\u001b[49m\u001b[43m(\u001b[49m\u001b[43mtable\u001b[49m\u001b[43m,\u001b[49m\u001b[43m \u001b[49m\u001b[43mnew_kwargs\u001b[49m\u001b[43m,\u001b[49m\u001b[43m \u001b[49m\u001b[38;5;28;43mformat\u001b[39;49m\u001b[43m,\u001b[49m\u001b[43m \u001b[49m\u001b[43mfast_reader\u001b[49m\u001b[43m)\u001b[49m\n\u001b[1;32m    342\u001b[0m \u001b[38;5;28;01mif\u001b[39;00m dat \u001b[38;5;129;01mis\u001b[39;00m \u001b[38;5;28;01mNone\u001b[39;00m:\n\u001b[1;32m    343\u001b[0m     guess \u001b[38;5;241m=\u001b[39m \u001b[38;5;28;01mFalse\u001b[39;00m\n",
      "File \u001b[0;32m~/Py36/lib/python3.8/site-packages/astropy/io/ascii/ui.py:506\u001b[0m, in \u001b[0;36m_guess\u001b[0;34m(table, read_kwargs, format, fast_reader)\u001b[0m\n\u001b[1;32m    503\u001b[0m reader \u001b[38;5;241m=\u001b[39m get_reader(\u001b[38;5;241m*\u001b[39m\u001b[38;5;241m*\u001b[39mguess_kwargs)\n\u001b[1;32m    505\u001b[0m reader\u001b[38;5;241m.\u001b[39mguessing \u001b[38;5;241m=\u001b[39m \u001b[38;5;28;01mTrue\u001b[39;00m\n\u001b[0;32m--> 506\u001b[0m dat \u001b[38;5;241m=\u001b[39m \u001b[43mreader\u001b[49m\u001b[38;5;241;43m.\u001b[39;49m\u001b[43mread\u001b[49m\u001b[43m(\u001b[49m\u001b[43mtable\u001b[49m\u001b[43m)\u001b[49m\n\u001b[1;32m    507\u001b[0m _read_trace\u001b[38;5;241m.\u001b[39mappend({\u001b[38;5;124m'\u001b[39m\u001b[38;5;124mkwargs\u001b[39m\u001b[38;5;124m'\u001b[39m: copy\u001b[38;5;241m.\u001b[39mdeepcopy(guess_kwargs),\n\u001b[1;32m    508\u001b[0m                     \u001b[38;5;124m'\u001b[39m\u001b[38;5;124mReader\u001b[39m\u001b[38;5;124m'\u001b[39m: reader\u001b[38;5;241m.\u001b[39m\u001b[38;5;18m__class__\u001b[39m,\n\u001b[1;32m    509\u001b[0m                     \u001b[38;5;124m'\u001b[39m\u001b[38;5;124mstatus\u001b[39m\u001b[38;5;124m'\u001b[39m: \u001b[38;5;124m'\u001b[39m\u001b[38;5;124mSuccess (guessing)\u001b[39m\u001b[38;5;124m'\u001b[39m,\n\u001b[1;32m    510\u001b[0m                     \u001b[38;5;124m'\u001b[39m\u001b[38;5;124mdt\u001b[39m\u001b[38;5;124m'\u001b[39m: \u001b[38;5;124mf\u001b[39m\u001b[38;5;124m'\u001b[39m\u001b[38;5;132;01m{\u001b[39;00m(time\u001b[38;5;241m.\u001b[39mtime() \u001b[38;5;241m-\u001b[39m t0) \u001b[38;5;241m*\u001b[39m \u001b[38;5;241m1000\u001b[39m\u001b[38;5;132;01m:\u001b[39;00m\u001b[38;5;124m.3f\u001b[39m\u001b[38;5;132;01m}\u001b[39;00m\u001b[38;5;124m ms\u001b[39m\u001b[38;5;124m'\u001b[39m})\n\u001b[1;32m    511\u001b[0m \u001b[38;5;28;01mreturn\u001b[39;00m dat\n",
      "File \u001b[0;32m~/Py36/lib/python3.8/site-packages/astropy/io/ascii/core.py:1334\u001b[0m, in \u001b[0;36mBaseReader.read\u001b[0;34m(self, table)\u001b[0m\n\u001b[1;32m   1331\u001b[0m     newline \u001b[38;5;241m=\u001b[39m \u001b[38;5;28;01mNone\u001b[39;00m\n\u001b[1;32m   1333\u001b[0m \u001b[38;5;66;03m# Get a list of the lines (rows) in the table\u001b[39;00m\n\u001b[0;32m-> 1334\u001b[0m \u001b[38;5;28mself\u001b[39m\u001b[38;5;241m.\u001b[39mlines \u001b[38;5;241m=\u001b[39m \u001b[38;5;28;43mself\u001b[39;49m\u001b[38;5;241;43m.\u001b[39;49m\u001b[43minputter\u001b[49m\u001b[38;5;241;43m.\u001b[39;49m\u001b[43mget_lines\u001b[49m\u001b[43m(\u001b[49m\u001b[43mtable\u001b[49m\u001b[43m,\u001b[49m\u001b[43m \u001b[49m\u001b[43mnewline\u001b[49m\u001b[38;5;241;43m=\u001b[39;49m\u001b[43mnewline\u001b[49m\u001b[43m)\u001b[49m\n\u001b[1;32m   1336\u001b[0m \u001b[38;5;66;03m# Set self.data.data_lines to a slice of lines contain the data rows\u001b[39;00m\n\u001b[1;32m   1337\u001b[0m \u001b[38;5;28mself\u001b[39m\u001b[38;5;241m.\u001b[39mdata\u001b[38;5;241m.\u001b[39mget_data_lines(\u001b[38;5;28mself\u001b[39m\u001b[38;5;241m.\u001b[39mlines)\n",
      "File \u001b[0;32m~/Py36/lib/python3.8/site-packages/astropy/io/ascii/core.py:329\u001b[0m, in \u001b[0;36mBaseInputter.get_lines\u001b[0;34m(self, table, newline)\u001b[0m\n\u001b[1;32m    326\u001b[0m \u001b[38;5;28;01mtry\u001b[39;00m:\n\u001b[1;32m    327\u001b[0m     \u001b[38;5;28;01mif\u001b[39;00m (\u001b[38;5;28mhasattr\u001b[39m(table, \u001b[38;5;124m'\u001b[39m\u001b[38;5;124mread\u001b[39m\u001b[38;5;124m'\u001b[39m)\n\u001b[1;32m    328\u001b[0m             \u001b[38;5;129;01mor\u001b[39;00m (\u001b[38;5;124m'\u001b[39m\u001b[38;5;130;01m\\n\u001b[39;00m\u001b[38;5;124m'\u001b[39m \u001b[38;5;129;01mnot\u001b[39;00m \u001b[38;5;129;01min\u001b[39;00m table \u001b[38;5;241m+\u001b[39m \u001b[38;5;124m'\u001b[39m\u001b[38;5;124m'\u001b[39m \u001b[38;5;129;01mand\u001b[39;00m \u001b[38;5;124m'\u001b[39m\u001b[38;5;130;01m\\r\u001b[39;00m\u001b[38;5;124m'\u001b[39m \u001b[38;5;129;01mnot\u001b[39;00m \u001b[38;5;129;01min\u001b[39;00m table \u001b[38;5;241m+\u001b[39m \u001b[38;5;124m'\u001b[39m\u001b[38;5;124m'\u001b[39m)):\n\u001b[0;32m--> 329\u001b[0m         \u001b[38;5;28;01mwith\u001b[39;00m get_readable_fileobj(table,\n\u001b[1;32m    330\u001b[0m                                   encoding\u001b[38;5;241m=\u001b[39m\u001b[38;5;28mself\u001b[39m\u001b[38;5;241m.\u001b[39mencoding) \u001b[38;5;28;01mas\u001b[39;00m fileobj:\n\u001b[1;32m    331\u001b[0m             table \u001b[38;5;241m=\u001b[39m fileobj\u001b[38;5;241m.\u001b[39mread()\n\u001b[1;32m    332\u001b[0m     \u001b[38;5;28;01mif\u001b[39;00m newline \u001b[38;5;129;01mis\u001b[39;00m \u001b[38;5;28;01mNone\u001b[39;00m:\n",
      "File \u001b[0;32m/Library/Developer/CommandLineTools/Library/Frameworks/Python3.framework/Versions/3.8/lib/python3.8/contextlib.py:113\u001b[0m, in \u001b[0;36m_GeneratorContextManager.__enter__\u001b[0;34m(self)\u001b[0m\n\u001b[1;32m    111\u001b[0m \u001b[38;5;28;01mdel\u001b[39;00m \u001b[38;5;28mself\u001b[39m\u001b[38;5;241m.\u001b[39margs, \u001b[38;5;28mself\u001b[39m\u001b[38;5;241m.\u001b[39mkwds, \u001b[38;5;28mself\u001b[39m\u001b[38;5;241m.\u001b[39mfunc\n\u001b[1;32m    112\u001b[0m \u001b[38;5;28;01mtry\u001b[39;00m:\n\u001b[0;32m--> 113\u001b[0m     \u001b[38;5;28;01mreturn\u001b[39;00m \u001b[38;5;28;43mnext\u001b[39;49m\u001b[43m(\u001b[49m\u001b[38;5;28;43mself\u001b[39;49m\u001b[38;5;241;43m.\u001b[39;49m\u001b[43mgen\u001b[49m\u001b[43m)\u001b[49m\n\u001b[1;32m    114\u001b[0m \u001b[38;5;28;01mexcept\u001b[39;00m \u001b[38;5;167;01mStopIteration\u001b[39;00m:\n\u001b[1;32m    115\u001b[0m     \u001b[38;5;28;01mraise\u001b[39;00m \u001b[38;5;167;01mRuntimeError\u001b[39;00m(\u001b[38;5;124m\"\u001b[39m\u001b[38;5;124mgenerator didn\u001b[39m\u001b[38;5;124m'\u001b[39m\u001b[38;5;124mt yield\u001b[39m\u001b[38;5;124m\"\u001b[39m) \u001b[38;5;28;01mfrom\u001b[39;00m \u001b[38;5;28mNone\u001b[39m\n",
      "File \u001b[0;32m~/Py36/lib/python3.8/site-packages/astropy/utils/data.py:271\u001b[0m, in \u001b[0;36mget_readable_fileobj\u001b[0;34m(name_or_obj, encoding, cache, show_progress, remote_timeout, sources, http_headers)\u001b[0m\n\u001b[1;32m    266\u001b[0m \u001b[38;5;28;01mif\u001b[39;00m is_url:\n\u001b[1;32m    267\u001b[0m     name_or_obj \u001b[38;5;241m=\u001b[39m download_file(\n\u001b[1;32m    268\u001b[0m         name_or_obj, cache\u001b[38;5;241m=\u001b[39mcache, show_progress\u001b[38;5;241m=\u001b[39mshow_progress,\n\u001b[1;32m    269\u001b[0m         timeout\u001b[38;5;241m=\u001b[39mremote_timeout, sources\u001b[38;5;241m=\u001b[39msources,\n\u001b[1;32m    270\u001b[0m         http_headers\u001b[38;5;241m=\u001b[39mhttp_headers)\n\u001b[0;32m--> 271\u001b[0m fileobj \u001b[38;5;241m=\u001b[39m \u001b[43mio\u001b[49m\u001b[38;5;241;43m.\u001b[39;49m\u001b[43mFileIO\u001b[49m\u001b[43m(\u001b[49m\u001b[43mname_or_obj\u001b[49m\u001b[43m,\u001b[49m\u001b[43m \u001b[49m\u001b[38;5;124;43m'\u001b[39;49m\u001b[38;5;124;43mr\u001b[39;49m\u001b[38;5;124;43m'\u001b[39;49m\u001b[43m)\u001b[49m\n\u001b[1;32m    272\u001b[0m \u001b[38;5;28;01mif\u001b[39;00m is_url \u001b[38;5;129;01mand\u001b[39;00m \u001b[38;5;129;01mnot\u001b[39;00m cache:\n\u001b[1;32m    273\u001b[0m     delete_fds\u001b[38;5;241m.\u001b[39mappend(fileobj)\n",
      "\u001b[0;31mFileNotFoundError\u001b[0m: [Errno 2] No such file or directory: ''"
     ]
    }
   ],
   "source": [
    "objname = 'AT2019wxt'\n",
    "ra, dec = resolve(objname)\n",
    "radius = 1.0/3600.0 # radius = 1 arcsec\n",
    "\n",
    "results = ps1cone(ra,dec,radius,release='dr2',columns=columns,**constraints)\n",
    "tab = ascii.read(results)\n",
    "# improve the format\n",
    "for filter in 'grizy':\n",
    "    col = filter+'MeanPSFMag'\n",
    "    tab[col].format = \".4f\"\n",
    "    tab[col][tab[col] == -999.0] = np.nan\n",
    "tab"
   ]
  },
  {
   "cell_type": "markdown",
   "metadata": {},
   "source": [
    "### Get the detection information\n",
    "\n",
    "Extract all the objects with the same object ID from the Detection table, which contains all the individual measurements for this source."
   ]
  },
  {
   "cell_type": "code",
   "execution_count": 17,
   "metadata": {},
   "outputs": [
    {
     "data": {
      "text/html": [
       "<div><i>Table length=3</i>\n",
       "<table id=\"table5173697792\" class=\"table-striped table-bordered table-condensed\">\n",
       "<thead><tr><th>objID</th><th>detectID</th><th>filterID</th><th>obsTime</th><th>ra</th><th>dec</th><th>psfFlux</th><th>psfFluxErr</th><th>psfMajorFWHM</th><th>psfMinorFWHM</th><th>psfQfPerfect</th><th>apFlux</th><th>apFluxErr</th><th>infoFlag</th><th>infoFlag2</th><th>infoFlag3</th><th>filter</th></tr></thead>\n",
       "<thead><tr><th>int64</th><th>int64</th><th>int64</th><th>float64</th><th>float64</th><th>float64</th><th>float64</th><th>float64</th><th>float64</th><th>float64</th><th>float64</th><th>float64</th><th>float64</th><th>int64</th><th>int64</th><th>int64</th><th>str1</th></tr></thead>\n",
       "<tr><td>145680289172828132</td><td>138142343230001312</td><td>2</td><td>55482.4236703</td><td>28.91728545</td><td>31.40627159</td><td>5.180079824640416e-06</td><td>8.091299719126255e-07</td><td>0.9897170066833496</td><td>0.9581170082092285</td><td>0.9982540011405945</td><td>7.455119884980377e-06</td><td>3.11098006022803e-07</td><td>35651585</td><td>0</td><td>7374912</td><td>r</td></tr>\n",
       "<tr><td>145680289172828132</td><td>178926541540000908</td><td>2</td><td>55890.2656489</td><td>28.9171218</td><td>31.40632677</td><td>6.410829882952385e-06</td><td>9.34687022891012e-07</td><td>1.0376499891281128</td><td>0.948498010635376</td><td>0.9979869723320007</td><td>1.223599974764511e-05</td><td>4.0224500708063715e-07</td><td>35667969</td><td>0</td><td>7374912</td><td>r</td></tr>\n",
       "<tr><td>145680289172828132</td><td>211843662500001368</td><td>2</td><td>56219.43686</td><td>28.91706356</td><td>31.40638574</td><td>6.591760211449582e-06</td><td>1.1498400454001967e-06</td><td>1.4236199855804443</td><td>1.3194899559020996</td><td>0.9989060163497925</td><td>1.1037400327040814e-05</td><td>3.7557799714704743e-07</td><td>35651585</td><td>0</td><td>7374912</td><td>r</td></tr>\n",
       "</table></div>"
      ],
      "text/plain": [
       "<Table length=3>\n",
       "      objID             detectID      filterID    obsTime         ra         dec            psfFlux              psfFluxErr          psfMajorFWHM       psfMinorFWHM       psfQfPerfect            apFlux               apFluxErr        infoFlag infoFlag2 infoFlag3 filter\n",
       "      int64              int64         int64      float64      float64     float64          float64               float64              float64            float64            float64              float64                float64          int64     int64     int64    str1 \n",
       "------------------ ------------------ -------- ------------- ----------- ----------- --------------------- ---------------------- ------------------ ------------------ ------------------ ---------------------- ---------------------- -------- --------- --------- ------\n",
       "145680289172828132 138142343230001312        2 55482.4236703 28.91728545 31.40627159 5.180079824640416e-06  8.091299719126255e-07 0.9897170066833496 0.9581170082092285 0.9982540011405945  7.455119884980377e-06   3.11098006022803e-07 35651585         0   7374912      r\n",
       "145680289172828132 178926541540000908        2 55890.2656489  28.9171218 31.40632677 6.410829882952385e-06   9.34687022891012e-07 1.0376499891281128  0.948498010635376 0.9979869723320007  1.223599974764511e-05 4.0224500708063715e-07 35667969         0   7374912      r\n",
       "145680289172828132 211843662500001368        2   56219.43686 28.91706356 31.40638574 6.591760211449582e-06 1.1498400454001967e-06 1.4236199855804443 1.3194899559020996 0.9989060163497925 1.1037400327040814e-05 3.7557799714704743e-07 35651585         0   7374912      r"
      ]
     },
     "execution_count": 17,
     "metadata": {},
     "output_type": "execute_result"
    }
   ],
   "source": [
    "def addfilter(dtab):\n",
    "    \"\"\"Add filter name as column in detection table by translating filterID\n",
    "    \n",
    "    This modifies the table in place.  If the 'filter' column already exists,\n",
    "    the table is returned unchanged.\n",
    "    \"\"\"\n",
    "    if 'filter' not in dtab.colnames:\n",
    "        # the filterID value goes from 1 to 5 for grizy\n",
    "        id2filter = np.array(list('grizy'))\n",
    "        dtab['filter'] = id2filter[(dtab['filterID']-1).data]\n",
    "    return dtab\n",
    "\n",
    "objid = tab['objID'][0]\n",
    "dconstraints = {'objID': objid}\n",
    "dcolumns = (\"\"\"objID,detectID,filterID,obsTime,ra,dec,psfFlux,psfFluxErr,psfMajorFWHM,psfMinorFWHM,\n",
    "            psfQfPerfect,apFlux,apFluxErr,infoFlag,infoFlag2,infoFlag3\"\"\").split(',')\n",
    "# strip blanks and weed out blank and commented-out values\n",
    "dcolumns = [x.strip() for x in dcolumns]\n",
    "dcolumns = [x for x in dcolumns if x and not x.startswith('#')]\n",
    "\n",
    "dresults = ps1search(table='detection',release='dr2',columns=dcolumns,**dconstraints)\n",
    "dtab = addfilter(ascii.read(dresults))\n",
    "dtab.sort('obsTime')\n",
    "dtab"
   ]
  },
  {
   "cell_type": "markdown",
   "metadata": {},
   "source": [
    "### Plot the light curves\n",
    "\n",
    "The `psfFlux` values from the Detection table are converted from Janskys to AB magnitudes.  Measurements in the 5 different filters are plotted separately."
   ]
  },
  {
   "cell_type": "code",
   "execution_count": 18,
   "metadata": {},
   "outputs": [
    {
     "data": {
      "image/png": "[encoded data removed]",
      "text/plain": [
       "<Figure size 720x720 with 5 Axes>"
      ]
     },
     "metadata": {
      "needs_background": "light"
     },
     "output_type": "display_data"
    }
   ],
   "source": [
    "# convert flux in Jy to magnitudes\n",
    "t = dtab['obsTime']\n",
    "mag = -2.5*np.log10(dtab['psfFlux']) + 8.90\n",
    "xlim = np.array([t.min(),t.max()])\n",
    "xlim = xlim + np.array([-1,1])*0.02*(xlim[1]-xlim[0])\n",
    "\n",
    "plt.rcParams.update({'font.size': 14})\n",
    "plt.figure(1,(10,10))\n",
    "for i, filter in enumerate(\"grizy\"):\n",
    "    plt.subplot(511+i)\n",
    "    w = np.where(dtab['filter']==filter)\n",
    "    plt.plot(t[w],mag[w],'-o')\n",
    "    plt.ylabel(filter+' [mag]')\n",
    "    plt.xlim(xlim)\n",
    "    plt.gca().invert_yaxis()\n",
    "    if i==0:\n",
    "        plt.title(objname)\n",
    "plt.xlabel('Time [MJD]')\n",
    "plt.tight_layout()"
   ]
  },
  {
   "cell_type": "markdown",
   "metadata": {},
   "source": [
    "Plot differences from the mean magnitudes in the initial search."
   ]
  },
  {
   "cell_type": "code",
   "execution_count": 19,
   "metadata": {},
   "outputs": [
    {
     "data": {
      "image/png": "[encoded data removed]",
      "text/plain": [
       "<Figure size 720x720 with 5 Axes>"
      ]
     },
     "metadata": {
      "needs_background": "light"
     },
     "output_type": "display_data"
    }
   ],
   "source": [
    "# convert flux in Jy to magnitudes\n",
    "t = dtab['obsTime']\n",
    "mag = -2.5*np.log10(dtab['psfFlux']) + 8.90\n",
    "xlim = np.array([t.min(),t.max()])\n",
    "xlim = xlim + np.array([-1,1])*0.02*(xlim[1]-xlim[0])\n",
    "\n",
    "plt.rcParams.update({'font.size': 14})\n",
    "plt.figure(1,(10,10))\n",
    "for i, filter in enumerate(\"grizy\"):\n",
    "    plt.subplot(511+i)\n",
    "    w = np.where(dtab['filter']==filter)\n",
    "    magmean = tab[filter+'MeanPSFMag'][0]\n",
    "    plt.plot(t[w],mag[w] - magmean,'-o')\n",
    "    plt.ylabel('{} [mag - {:.2f}]'.format(filter,magmean))\n",
    "    plt.xlim(xlim)\n",
    "    plt.gca().invert_yaxis()\n",
    "    if i==0:\n",
    "        plt.title(objname)\n",
    "plt.xlabel('Time [MJD]')\n",
    "plt.tight_layout()"
   ]
  },
  {
   "cell_type": "markdown",
   "metadata": {},
   "source": [
    "### Identify bad data\n",
    "\n",
    "There is one clearly bad $z$ magnitude with a very large difference.  Select the bad point and look at it in more detail.\n",
    "\n",
    "Note that indexing a table (or numpy array) with a logical expression selects just the rows where that expression is true."
   ]
  },
  {
   "cell_type": "code",
   "execution_count": 20,
   "metadata": {},
   "outputs": [
    {
     "data": {
      "text/html": [
       "<div><i>Table length=0</i>\n",
       "<table id=\"table5201555168\" class=\"table-striped table-bordered table-condensed\">\n",
       "<thead><tr><th>objID</th><th>detectID</th><th>filterID</th><th>obsTime</th><th>ra</th><th>dec</th><th>psfFlux</th><th>psfFluxErr</th><th>psfMajorFWHM</th><th>psfMinorFWHM</th><th>psfQfPerfect</th><th>apFlux</th><th>apFluxErr</th><th>infoFlag</th><th>infoFlag2</th><th>infoFlag3</th><th>filter</th></tr></thead>\n",
       "<thead><tr><th>int64</th><th>int64</th><th>int64</th><th>float64</th><th>float64</th><th>float64</th><th>float64</th><th>float64</th><th>float64</th><th>float64</th><th>float64</th><th>float64</th><th>float64</th><th>int64</th><th>int64</th><th>int64</th><th>str1</th></tr></thead>\n",
       "</table></div>"
      ],
      "text/plain": [
       "<Table length=0>\n",
       "objID detectID filterID obsTime    ra     dec   psfFlux psfFluxErr psfMajorFWHM psfMinorFWHM psfQfPerfect  apFlux apFluxErr infoFlag infoFlag2 infoFlag3 filter\n",
       "int64  int64    int64   float64 float64 float64 float64  float64     float64      float64      float64    float64  float64   int64     int64     int64    str1 \n",
       "----- -------- -------- ------- ------- ------- ------- ---------- ------------ ------------ ------------ ------- --------- -------- --------- --------- ------"
      ]
     },
     "execution_count": 20,
     "metadata": {},
     "output_type": "execute_result"
    }
   ],
   "source": [
    "dtab[ (dtab['filter']=='z') & (np.abs(mag-tab['zMeanPSFMag'][0]) > 2) ]"
   ]
  },
  {
   "cell_type": "markdown",
   "metadata": {},
   "source": [
    "From examining this table, it looks like `psfQfPerfect` is bad.  This flag is the PSF-weighted fraction of unmasked pixels in the image (see the [documentation](https://outerspace.stsci.edu/x/IoOc) for more details). Values near unity indicate good data that is not significantly affected by bad pixels.\n",
    "\n",
    "Check all the `psfQfPerfect` values for the $z$ filter to see if this value really is unusual.  The list of values below are sorted by magnitude.  The bad point is the only value with `psfQfPerfect` < 0.95."
   ]
  },
  {
   "cell_type": "code",
   "execution_count": 21,
   "metadata": {},
   "outputs": [
    {
     "data": {
      "text/html": [
       "<div><i>Table length=0</i>\n",
       "<table id=\"table5201253856\" class=\"table-striped table-bordered table-condensed\">\n",
       "<thead><tr><th>objID</th><th>obsTime</th><th>mag</th><th>dmag</th><th>psfQfPerfect</th></tr></thead>\n",
       "<thead><tr><th>int64</th><th>float64</th><th>float64</th><th>float64</th><th>float64</th></tr></thead>\n",
       "</table></div>"
      ],
      "text/plain": [
       "<Table length=0>\n",
       "objID obsTime   mag     dmag  psfQfPerfect\n",
       "int64 float64 float64 float64   float64   \n",
       "----- ------- ------- ------- ------------"
      ]
     },
     "execution_count": 21,
     "metadata": {},
     "output_type": "execute_result"
    }
   ],
   "source": [
    "w = np.where(dtab['filter']=='z')\n",
    "zdtab = dtab[w]\n",
    "zdtab['mag'] = mag[w]\n",
    "zdtab['dmag'] = zdtab['mag'] - tab['zMeanPSFMag'][0]\n",
    "ii = np.argsort(-np.abs(zdtab['dmag']))\n",
    "zdtab = zdtab[ii]\n",
    "zdtab['objID','obsTime','mag','dmag','psfQfPerfect']"
   ]
  },
  {
   "cell_type": "markdown",
   "metadata": {},
   "source": [
    "### Repeat the plot with bad psfQfPerfect values excluded\n",
    "\n",
    "Do the plot again but exclude low psfQfPerfect values."
   ]
  },
  {
   "cell_type": "code",
   "execution_count": 22,
   "metadata": {},
   "outputs": [
    {
     "ename": "IndexError",
     "evalue": "index 0 is out of bounds for axis 0 with size 0",
     "output_type": "error",
     "traceback": [
      "\u001b[0;31m---------------------------------------------------------------------------\u001b[0m",
      "\u001b[0;31mIndexError\u001b[0m                                Traceback (most recent call last)",
      "Input \u001b[0;32mIn [22]\u001b[0m, in \u001b[0;36m<module>\u001b[0;34m\u001b[0m\n\u001b[1;32m     20\u001b[0m w \u001b[38;5;241m=\u001b[39m np\u001b[38;5;241m.\u001b[39mwhere((dtab[\u001b[38;5;124m'\u001b[39m\u001b[38;5;124mfilter\u001b[39m\u001b[38;5;124m'\u001b[39m]\u001b[38;5;241m==\u001b[39m\u001b[38;5;28mfilter\u001b[39m) \u001b[38;5;241m&\u001b[39m (dtab[\u001b[38;5;124m'\u001b[39m\u001b[38;5;124mpsfQfPerfect\u001b[39m\u001b[38;5;124m'\u001b[39m]\u001b[38;5;241m>\u001b[39m\u001b[38;5;241m0.9\u001b[39m))[\u001b[38;5;241m0\u001b[39m]\n\u001b[1;32m     21\u001b[0m plt\u001b[38;5;241m.\u001b[39mplot(t[w],dmag[w],\u001b[38;5;124m'\u001b[39m\u001b[38;5;124m-o\u001b[39m\u001b[38;5;124m'\u001b[39m)\n\u001b[0;32m---> 22\u001b[0m plt\u001b[38;5;241m.\u001b[39mylabel(\u001b[38;5;124m'\u001b[39m\u001b[38;5;132;01m{}\u001b[39;00m\u001b[38;5;124m [mag - \u001b[39m\u001b[38;5;132;01m{:.2f}\u001b[39;00m\u001b[38;5;124m]\u001b[39m\u001b[38;5;124m'\u001b[39m\u001b[38;5;241m.\u001b[39mformat(\u001b[38;5;28mfilter\u001b[39m,magmean[\u001b[43mw\u001b[49m\u001b[43m[\u001b[49m\u001b[38;5;241;43m0\u001b[39;49m\u001b[43m]\u001b[49m]))\n\u001b[1;32m     23\u001b[0m plt\u001b[38;5;241m.\u001b[39mxlim(xlim)\n\u001b[1;32m     24\u001b[0m plt\u001b[38;5;241m.\u001b[39mylim(ylim)\n",
      "\u001b[0;31mIndexError\u001b[0m: index 0 is out of bounds for axis 0 with size 0"
     ]
    },
    {
     "data": {
      "image/png": "[encoded data removed]",
      "text/plain": [
       "<Figure size 720x720 with 1 Axes>"
      ]
     },
     "metadata": {
      "needs_background": "light"
     },
     "output_type": "display_data"
    }
   ],
   "source": [
    "# convert flux in Jy to magnitudes\n",
    "t = dtab['obsTime']\n",
    "mag = -2.5*np.log10(dtab['psfFlux']) + 8.90\n",
    "magmean = 0.0*mag\n",
    "for filter in \"grizy\":\n",
    "    magmean[dtab['filter']==filter] = tab[filter+'MeanPSFMag'][0]\n",
    "dmag = mag - magmean\n",
    "dmag1 = dmag[dtab['psfQfPerfect']>0.9]\n",
    "# fix the x and y axis ranges\n",
    "xlim = np.array([t.min(),t.max()])\n",
    "xlim = xlim + np.array([-1,1])*0.02*(xlim[1]-xlim[0])\n",
    "# flip axis direction for magnitude\n",
    "ylim = np.array([dmag1.max(),dmag1.min()])\n",
    "ylim = ylim + np.array([-1,1])*0.02*(ylim[1]-ylim[0])\n",
    "\n",
    "plt.rcParams.update({'font.size': 14})\n",
    "plt.figure(1,(10,10))\n",
    "for i, filter in enumerate(\"grizy\"):\n",
    "    plt.subplot(511+i)\n",
    "    w = np.where((dtab['filter']==filter) & (dtab['psfQfPerfect']>0.9))[0]\n",
    "    plt.plot(t[w],dmag[w],'-o')\n",
    "    plt.ylabel('{} [mag - {:.2f}]'.format(filter,magmean[w[0]]))\n",
    "    plt.xlim(xlim)\n",
    "    plt.ylim(ylim)\n",
    "    if i==0:\n",
    "        plt.title(objname)\n",
    "plt.xlabel('Time [MJD]')\n",
    "plt.tight_layout()"
   ]
  },
  {
   "cell_type": "markdown",
   "metadata": {},
   "source": [
    "### Plot versus the periodic phase instead of epoch\n",
    "\n",
    "Plot versus phase using known RR Lyr period from Simbad (table [J/AJ/132/1202/table4](http://vizier.u-strasbg.fr/viz-bin/VizieR-3?-source=J/AJ/132/1202/table4&-c=KQ%20UMa&-c.u=arcmin&-c.r=2&-c.eq=J2000&-c.geom=r&-out.max=50&-out.form=HTML%20Table&-oc.form=sexa))."
   ]
  },
  {
   "cell_type": "code",
   "execution_count": 23,
   "metadata": {},
   "outputs": [
    {
     "ename": "IndexError",
     "evalue": "index 0 is out of bounds for axis 0 with size 0",
     "output_type": "error",
     "traceback": [
      "\u001b[0;31m---------------------------------------------------------------------------\u001b[0m",
      "\u001b[0;31mIndexError\u001b[0m                                Traceback (most recent call last)",
      "Input \u001b[0;32mIn [23]\u001b[0m, in \u001b[0;36m<module>\u001b[0;34m\u001b[0m\n\u001b[1;32m     22\u001b[0m w \u001b[38;5;241m=\u001b[39m w[np\u001b[38;5;241m.\u001b[39margsort(t[w])]\n\u001b[1;32m     23\u001b[0m plt\u001b[38;5;241m.\u001b[39mplot(t[w],dmag[w],\u001b[38;5;124m'\u001b[39m\u001b[38;5;124m-o\u001b[39m\u001b[38;5;124m'\u001b[39m)\n\u001b[0;32m---> 24\u001b[0m plt\u001b[38;5;241m.\u001b[39mylabel(\u001b[38;5;124m'\u001b[39m\u001b[38;5;132;01m{}\u001b[39;00m\u001b[38;5;124m [mag - \u001b[39m\u001b[38;5;132;01m{:.2f}\u001b[39;00m\u001b[38;5;124m]\u001b[39m\u001b[38;5;124m'\u001b[39m\u001b[38;5;241m.\u001b[39mformat(\u001b[38;5;28mfilter\u001b[39m,magmean[\u001b[43mw\u001b[49m\u001b[43m[\u001b[49m\u001b[38;5;241;43m0\u001b[39;49m\u001b[43m]\u001b[49m]))\n\u001b[1;32m     25\u001b[0m plt\u001b[38;5;241m.\u001b[39mxlim(xlim)\n\u001b[1;32m     26\u001b[0m plt\u001b[38;5;241m.\u001b[39mylim(ylim)\n",
      "\u001b[0;31mIndexError\u001b[0m: index 0 is out of bounds for axis 0 with size 0"
     ]
    },
    {
     "data": {
      "image/png": "[encoded data removed]",
      "text/plain": [
       "<Figure size 720x720 with 1 Axes>"
      ]
     },
     "metadata": {
      "needs_background": "light"
     },
     "output_type": "display_data"
    }
   ],
   "source": [
    "period = 0.48636\n",
    "# convert flux in Jy to magnitudes\n",
    "t = (dtab['obsTime'] % period) / period\n",
    "mag = -2.5*np.log10(dtab['psfFlux']) + 8.90\n",
    "magmean = 0.0*mag\n",
    "for filter in \"grizy\":\n",
    "    magmean[dtab['filter']==filter] = tab[filter+'MeanPSFMag'][0]\n",
    "dmag = mag - magmean\n",
    "dmag1 = dmag[dtab['psfQfPerfect']>0.9]\n",
    "# fix the x and y axis ranges\n",
    "xlim = np.array([t.min(),t.max()])\n",
    "xlim = xlim + np.array([-1,1])*0.02*(xlim[1]-xlim[0])\n",
    "# flip axis direction for magnitude\n",
    "ylim = np.array([dmag1.max(),dmag1.min()])\n",
    "ylim = ylim + np.array([-1,1])*0.02*(ylim[1]-ylim[0])\n",
    "\n",
    "plt.rcParams.update({'font.size': 14})\n",
    "plt.figure(1,(10,10))\n",
    "for i, filter in enumerate(\"grizy\"):\n",
    "    plt.subplot(511+i)\n",
    "    w = np.where((dtab['filter']==filter) & (dtab['psfQfPerfect']>0.9))[0]\n",
    "    w = w[np.argsort(t[w])]\n",
    "    plt.plot(t[w],dmag[w],'-o')\n",
    "    plt.ylabel('{} [mag - {:.2f}]'.format(filter,magmean[w[0]]))\n",
    "    plt.xlim(xlim)\n",
    "    plt.ylim(ylim)\n",
    "    if i==0:\n",
    "        plt.title(objname)\n",
    "plt.xlabel('Phase')\n",
    "plt.tight_layout()"
   ]
  },
  {
   "cell_type": "markdown",
   "metadata": {},
   "source": [
    "## Repeat search using eclipsing binary KIC 2161623\n",
    "\n",
    "From [Villanova Kepler Eclipsing Binaries](http://keplerebs.villanova.edu)"
   ]
  },
  {
   "cell_type": "code",
   "execution_count": null,
   "metadata": {},
   "outputs": [],
   "source": [
    "objname = 'KIC 2161623'\n",
    "ra, dec = resolve(objname)\n",
    "radius = 1.0/3600.0 # radius = 1 arcsec\n",
    "\n",
    "results = ps1cone(ra,dec,radius,release='dr2',columns=columns,**constraints)\n",
    "tab = ascii.read(results)\n",
    "# improve the format\n",
    "for filter in 'grizy':\n",
    "    col = filter+'MeanPSFMag'\n",
    "    tab[col].format = \".4f\"\n",
    "    tab[col][tab[col] == -999.0] = np.nan\n",
    "tab"
   ]
  },
  {
   "cell_type": "markdown",
   "metadata": {},
   "source": [
    "### Get the detection information\n",
    "\n",
    "This time include the `psfQfPerfect` limit directly in the database query."
   ]
  },
  {
   "cell_type": "code",
   "execution_count": null,
   "metadata": {},
   "outputs": [],
   "source": [
    "objid = tab['objID'][0]\n",
    "dconstraints = {'objID': objid, 'psfQfPerfect.min': 0.9}\n",
    "dcolumns = (\"\"\"objID,detectID,filterID,obsTime,ra,dec,psfFlux,psfFluxErr,psfMajorFWHM,psfMinorFWHM,\n",
    "            psfQfPerfect,apFlux,apFluxErr,infoFlag,infoFlag2,infoFlag3\"\"\").split(',')\n",
    "# strip blanks and weed out blank and commented-out values\n",
    "dcolumns = [x.strip() for x in dcolumns]\n",
    "dcolumns = [x for x in dcolumns if x and not x.startswith('#')]\n",
    "\n",
    "dresults = ps1search(table='detection',release='dr2',columns=dcolumns,**dconstraints)\n",
    "dtab = addfilter(ascii.read(dresults))\n",
    "dtab.sort('obsTime')\n",
    "\n",
    "# add magnitude and difference from mean\n",
    "dtab['magmean'] = 0.0\n",
    "for filter in \"grizy\":\n",
    "    dtab['magmean'][dtab['filter']==filter] = tab[filter+'MeanPSFMag'][0]\n",
    "dtab['mag'] = -2.5*np.log10(dtab['psfFlux']) + 8.90\n",
    "dtab['dmag'] = dtab['mag']-dtab['magmean']\n",
    "dtab"
   ]
  },
  {
   "cell_type": "code",
   "execution_count": null,
   "metadata": {},
   "outputs": [],
   "source": [
    "t = dtab['obsTime']\n",
    "dmag = dtab['dmag']\n",
    "xlim = np.array([t.min(),t.max()])\n",
    "xlim = xlim + np.array([-1,1])*0.02*(xlim[1]-xlim[0])\n",
    "ylim = np.array([dmag.max(),dmag.min()])\n",
    "ylim = ylim + np.array([-1,1])*0.02*(ylim[1]-ylim[0])\n",
    "\n",
    "plt.rcParams.update({'font.size': 14})\n",
    "plt.figure(1,(10,10))\n",
    "for i, filter in enumerate(\"grizy\"):\n",
    "    plt.subplot(511+i)\n",
    "    w = np.where(dtab['filter']==filter)[0]\n",
    "    plt.plot(t[w],dmag[w],'-o')\n",
    "    magmean = dtab['magmean'][w[0]]\n",
    "    plt.ylabel('{} [mag - {:.2f}]'.format(filter,magmean))\n",
    "    plt.xlim(xlim)\n",
    "    plt.ylim(ylim)\n",
    "    if i==0:\n",
    "        plt.title(objname)\n",
    "plt.xlabel('Time [MJD]')\n",
    "plt.tight_layout()"
   ]
  },
  {
   "cell_type": "markdown",
   "metadata": {},
   "source": [
    "### Plot versus phase using known period\n",
    "\n",
    "Eclipsing binaries basically vary by same amount in all filters since it is a geometrical effect, so combine the data into a single light curve.  Wrap using known period and plot versus phase."
   ]
  },
  {
   "cell_type": "code",
   "execution_count": null,
   "metadata": {},
   "outputs": [],
   "source": [
    "period = 2.2834698\n",
    "bjd0 = 54999.599837\n",
    "t = ((dtab['obsTime']-bjd0) % period) / period\n",
    "dmag = dtab['dmag']\n",
    "w = np.argsort(t)\n",
    "t = t[w]\n",
    "dmag = dmag[w]\n",
    "xlim = np.array([t.min(),t.max()])\n",
    "xlim = xlim + np.array([-1,1])*0.02*(xlim[1]-xlim[0])\n",
    "ylim = np.array([dmag.max(),dmag.min()])\n",
    "ylim = ylim + np.array([-1,1])*0.02*(ylim[1]-ylim[0])\n",
    "\n",
    "plt.rcParams.update({'font.size': 14})\n",
    "plt.figure(1,(10,6))\n",
    "plt.plot(t,dmag,'-o')\n",
    "plt.xlim(xlim)\n",
    "plt.ylim(ylim)\n",
    "plt.xlabel('Phase')\n",
    "plt.ylabel('Delta magnitude from mean [mag]')\n",
    "plt.title(objname)\n",
    "plt.tight_layout()"
   ]
  },
  {
   "cell_type": "markdown",
   "metadata": {},
   "source": [
    "## Repeat search for another eclipsing binary KIC 8153568"
   ]
  },
  {
   "cell_type": "code",
   "execution_count": null,
   "metadata": {},
   "outputs": [],
   "source": [
    "objname = 'KIC 8153568'\n",
    "ra, dec = resolve(objname)\n",
    "radius = 1.0/3600.0 # radius = 1 arcsec\n",
    "\n",
    "results = ps1cone(ra,dec,radius,release='dr2',columns=columns,**constraints)\n",
    "tab = ascii.read(results)\n",
    "# improve the format\n",
    "for filter in 'grizy':\n",
    "    col = filter+'MeanPSFMag'\n",
    "    tab[col].format = \".4f\"\n",
    "    tab[col][tab[col] == -999.0] = np.nan\n",
    "tab"
   ]
  },
  {
   "cell_type": "code",
   "execution_count": null,
   "metadata": {},
   "outputs": [],
   "source": [
    "objid = tab['objID'][0]\n",
    "dconstraints = {'objID': objid, 'psfQfPerfect.min': 0.9}\n",
    "dcolumns = (\"\"\"objID,detectID,filterID,obsTime,ra,dec,psfFlux,psfFluxErr,psfMajorFWHM,psfMinorFWHM,\n",
    "            psfQfPerfect,apFlux,apFluxErr,infoFlag,infoFlag2,infoFlag3\"\"\").split(',')\n",
    "# strip blanks and weed out blank and commented-out values\n",
    "dcolumns = [x.strip() for x in dcolumns]\n",
    "dcolumns = [x for x in dcolumns if x and not x.startswith('#')]\n",
    "\n",
    "dresults = ps1search(table='detection',release='dr2',columns=dcolumns,**dconstraints)\n",
    "dtab = addfilter(ascii.read(dresults))\n",
    "dtab.sort('obsTime')\n",
    "\n",
    "# add magnitude and difference from mean\n",
    "dtab['magmean'] = 0.0\n",
    "for filter in \"grizy\":\n",
    "    dtab['magmean'][dtab['filter']==filter] = tab[filter+'MeanPSFMag'][0]\n",
    "dtab['mag'] = -2.5*np.log10(dtab['psfFlux']) + 8.90\n",
    "dtab['dmag'] = dtab['mag']-dtab['magmean']\n",
    "dtab"
   ]
  },
  {
   "cell_type": "code",
   "execution_count": null,
   "metadata": {},
   "outputs": [],
   "source": [
    "t = dtab['obsTime']\n",
    "dmag = dtab['dmag']\n",
    "xlim = np.array([t.min(),t.max()])\n",
    "xlim = xlim + np.array([-1,1])*0.02*(xlim[1]-xlim[0])\n",
    "ylim = np.array([dmag.max(),dmag.min()])\n",
    "ylim = ylim + np.array([-1,1])*0.02*(ylim[1]-ylim[0])\n",
    "\n",
    "plt.rcParams.update({'font.size': 14})\n",
    "plt.figure(1,(10,10))\n",
    "for i, filter in enumerate(\"grizy\"):\n",
    "    plt.subplot(511+i)\n",
    "    w = np.where(dtab['filter']==filter)[0]\n",
    "    plt.plot(t[w],dmag[w],'-o')\n",
    "    magmean = dtab['magmean'][w[0]]\n",
    "    plt.ylabel('{} [mag - {:.2f}]'.format(filter,magmean))\n",
    "    plt.xlim(xlim)\n",
    "    plt.ylim(ylim)\n",
    "    if i==0:\n",
    "        plt.title(objname)\n",
    "plt.xlabel('Time [MJD]')\n",
    "plt.tight_layout()"
   ]
  },
  {
   "cell_type": "markdown",
   "metadata": {},
   "source": [
    "Eclipsing binaries basically vary by same amount in all filters since it is a geometrical effect, so combine the data into a single light curve.\n",
    "\n",
    "Wrap using known period and plot versus phase.  Plot two periods of the light curve this time.\n",
    "\n",
    "This nice light curve appears to show a secondary eclipse."
   ]
  },
  {
   "cell_type": "code",
   "execution_count": 31,
   "metadata": {},
   "outputs": [
    {
     "ename": "KeyError",
     "evalue": "'dmag'",
     "output_type": "error",
     "traceback": [
      "\u001b[0;31m---------------------------------------------------------------------------\u001b[0m",
      "\u001b[0;31mKeyError\u001b[0m                                  Traceback (most recent call last)",
      "Input \u001b[0;32mIn [31]\u001b[0m, in \u001b[0;36m<module>\u001b[0;34m\u001b[0m\n\u001b[1;32m      2\u001b[0m bjd0 \u001b[38;5;241m=\u001b[39m \u001b[38;5;241m54999.289794\u001b[39m\n\u001b[1;32m      3\u001b[0m t \u001b[38;5;241m=\u001b[39m ((dtab[\u001b[38;5;124m'\u001b[39m\u001b[38;5;124mobsTime\u001b[39m\u001b[38;5;124m'\u001b[39m]\u001b[38;5;241m-\u001b[39mbjd0) \u001b[38;5;241m%\u001b[39m period) \u001b[38;5;241m/\u001b[39m period\n\u001b[0;32m----> 4\u001b[0m dmag \u001b[38;5;241m=\u001b[39m \u001b[43mdtab\u001b[49m\u001b[43m[\u001b[49m\u001b[38;5;124;43m'\u001b[39;49m\u001b[38;5;124;43mdmag\u001b[39;49m\u001b[38;5;124;43m'\u001b[39;49m\u001b[43m]\u001b[49m\n\u001b[1;32m      5\u001b[0m w \u001b[38;5;241m=\u001b[39m np\u001b[38;5;241m.\u001b[39margsort(t)\n\u001b[1;32m      6\u001b[0m \u001b[38;5;66;03m# extend to two periods\u001b[39;00m\n",
      "File \u001b[0;32m~/Py36/lib/python3.8/site-packages/astropy/table/table.py:1882\u001b[0m, in \u001b[0;36mTable.__getitem__\u001b[0;34m(self, item)\u001b[0m\n\u001b[1;32m   1880\u001b[0m \u001b[38;5;28;01mdef\u001b[39;00m \u001b[38;5;21m__getitem__\u001b[39m(\u001b[38;5;28mself\u001b[39m, item):\n\u001b[1;32m   1881\u001b[0m     \u001b[38;5;28;01mif\u001b[39;00m \u001b[38;5;28misinstance\u001b[39m(item, \u001b[38;5;28mstr\u001b[39m):\n\u001b[0;32m-> 1882\u001b[0m         \u001b[38;5;28;01mreturn\u001b[39;00m \u001b[38;5;28;43mself\u001b[39;49m\u001b[38;5;241;43m.\u001b[39;49m\u001b[43mcolumns\u001b[49m\u001b[43m[\u001b[49m\u001b[43mitem\u001b[49m\u001b[43m]\u001b[49m\n\u001b[1;32m   1883\u001b[0m     \u001b[38;5;28;01melif\u001b[39;00m \u001b[38;5;28misinstance\u001b[39m(item, (\u001b[38;5;28mint\u001b[39m, np\u001b[38;5;241m.\u001b[39minteger)):\n\u001b[1;32m   1884\u001b[0m         \u001b[38;5;28;01mreturn\u001b[39;00m \u001b[38;5;28mself\u001b[39m\u001b[38;5;241m.\u001b[39mRow(\u001b[38;5;28mself\u001b[39m, item)\n",
      "File \u001b[0;32m~/Py36/lib/python3.8/site-packages/astropy/table/table.py:247\u001b[0m, in \u001b[0;36mTableColumns.__getitem__\u001b[0;34m(self, item)\u001b[0m\n\u001b[1;32m    237\u001b[0m \u001b[38;5;124;03m\"\"\"Get items from a TableColumns object.\u001b[39;00m\n\u001b[1;32m    238\u001b[0m \u001b[38;5;124;03m::\u001b[39;00m\n\u001b[1;32m    239\u001b[0m \n\u001b[0;32m   (...)\u001b[0m\n\u001b[1;32m    244\u001b[0m \u001b[38;5;124;03m  tc[1:3] # <TableColumns names=('b', 'c')>\u001b[39;00m\n\u001b[1;32m    245\u001b[0m \u001b[38;5;124;03m\"\"\"\u001b[39;00m\n\u001b[1;32m    246\u001b[0m \u001b[38;5;28;01mif\u001b[39;00m \u001b[38;5;28misinstance\u001b[39m(item, \u001b[38;5;28mstr\u001b[39m):\n\u001b[0;32m--> 247\u001b[0m     \u001b[38;5;28;01mreturn\u001b[39;00m \u001b[43mOrderedDict\u001b[49m\u001b[38;5;241;43m.\u001b[39;49m\u001b[38;5;21;43m__getitem__\u001b[39;49m\u001b[43m(\u001b[49m\u001b[38;5;28;43mself\u001b[39;49m\u001b[43m,\u001b[49m\u001b[43m \u001b[49m\u001b[43mitem\u001b[49m\u001b[43m)\u001b[49m\n\u001b[1;32m    248\u001b[0m \u001b[38;5;28;01melif\u001b[39;00m \u001b[38;5;28misinstance\u001b[39m(item, (\u001b[38;5;28mint\u001b[39m, np\u001b[38;5;241m.\u001b[39minteger)):\n\u001b[1;32m    249\u001b[0m     \u001b[38;5;28;01mreturn\u001b[39;00m \u001b[38;5;28mlist\u001b[39m(\u001b[38;5;28mself\u001b[39m\u001b[38;5;241m.\u001b[39mvalues())[item]\n",
      "\u001b[0;31mKeyError\u001b[0m: 'dmag'"
     ]
    }
   ],
   "source": [
    "period = 3.6071431\n",
    "bjd0 = 54999.289794\n",
    "t = ((dtab['obsTime']-bjd0) % period) / period\n",
    "dmag = dtab['dmag']\n",
    "w = np.argsort(t)\n",
    "# extend to two periods\n",
    "nw = len(w)\n",
    "w = np.append(w,w)\n",
    "t = t[w]\n",
    "# add one to second period\n",
    "t[-nw:] += 1\n",
    "dmag = dmag[w]\n",
    "xlim = [0,2.0]\n",
    "ylim = np.array([dmag.max(),dmag.min()])\n",
    "ylim = ylim + np.array([-1,1])*0.02*(ylim[1]-ylim[0])\n",
    "\n",
    "plt.rcParams.update({'font.size': 14})\n",
    "plt.figure(1,(12,6))\n",
    "plt.plot(t,dmag,'-o')\n",
    "plt.xlim(xlim)\n",
    "plt.ylim(ylim)\n",
    "plt.xlabel('Phase')\n",
    "plt.ylabel('Delta magnitude from mean [mag]')\n",
    "plt.title(objname)\n",
    "plt.tight_layout()"
   ]
  },
  {
   "cell_type": "code",
   "execution_count": 56,
   "metadata": {},
   "outputs": [],
   "source": [
    "#Wendelstein et al points \n",
    "import pandas as pd\n",
    "\n",
    "from astropy.time import Time\n",
    "wen = pd.read_csv('Wendelstein.csv')"
   ]
  },
  {
   "cell_type": "code",
   "execution_count": 57,
   "metadata": {},
   "outputs": [
    {
     "data": {
      "text/plain": [
       "(0    2019-12-18T00:00:00.00\n",
       " 1    2019-12-19T00:00:00.00\n",
       " 2    2019-12-21T00:00:00.00\n",
       " 3    2019-12-29T00:00:00.00\n",
       " 4    2020-01-06T00:00:00.00\n",
       " 5                       NaN\n",
       " Name: Date, dtype: object,\n",
       " '2014-12-25T00:00:00.000')"
      ]
     },
     "execution_count": 57,
     "metadata": {},
     "output_type": "execute_result"
    }
   ],
   "source": [
    "wen['Date']+'T00:00:00.00', '2014-12-25T00:00:00.000'"
   ]
  },
  {
   "cell_type": "code",
   "execution_count": 62,
   "metadata": {},
   "outputs": [
    {
     "data": {
      "text/plain": [
       "58854.0"
      ]
     },
     "execution_count": 62,
     "metadata": {},
     "output_type": "execute_result"
    }
   ],
   "source": [
    "t = Time('2020-01-06T00:00:00.00', format='isot', scale='utc')\n",
    "\n",
    "t.mjd"
   ]
  },
  {
   "cell_type": "code",
   "execution_count": null,
   "metadata": {},
   "outputs": [],
   "source": []
  }
 ],
 "metadata": {
  "kernelspec": {
   "display_name": "Python 3 (ipykernel)",
   "language": "python",
   "name": "python3"
  },
  "language_info": {
   "codemirror_mode": {
    "name": "ipython",
    "version": 3
   },
   "file_extension": ".py",
   "mimetype": "text/x-python",
   "name": "python",
   "nbconvert_exporter": "python",
   "pygments_lexer": "ipython3",
   "version": "3.8.9"
  }
 },
 "nbformat": 4,
 "nbformat_minor": 2
}
